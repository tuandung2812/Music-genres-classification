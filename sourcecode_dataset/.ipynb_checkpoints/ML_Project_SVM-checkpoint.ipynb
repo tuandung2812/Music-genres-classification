{
 "cells": [
  {
   "cell_type": "code",
   "execution_count": 1,
   "metadata": {},
   "outputs": [],
   "source": [
    "import pandas as pd\n",
    "import sklearn\n",
    "from sklearn.preprocessing import StandardScaler\n",
    "from sklearn.pipeline import Pipeline\n",
    "from sklearn.model_selection import GridSearchCV\n",
    "from sklearn.model_selection import train_test_split\n",
    "from sklearn.metrics import accuracy_score\n",
    "\n",
    "from sklearn.feature_selection import VarianceThreshold\n",
    "from sklearn.feature_selection import SelectFromModel\n",
    "from sklearn.svm import SVC\n",
    "\n",
    "import lightgbm as lgbm\n",
    "import math\n",
    "import pickle"
   ]
  },
  {
   "cell_type": "markdown",
   "metadata": {},
   "source": [
    "# Loading original data"
   ]
  },
  {
   "cell_type": "code",
   "execution_count": 2,
   "metadata": {
    "scrolled": true
   },
   "outputs": [
    {
     "data": {
      "text/html": [
       "<div>\n",
       "<style scoped>\n",
       "    .dataframe tbody tr th:only-of-type {\n",
       "        vertical-align: middle;\n",
       "    }\n",
       "\n",
       "    .dataframe tbody tr th {\n",
       "        vertical-align: top;\n",
       "    }\n",
       "\n",
       "    .dataframe thead th {\n",
       "        text-align: right;\n",
       "    }\n",
       "</style>\n",
       "<table border=\"1\" class=\"dataframe\">\n",
       "  <thead>\n",
       "    <tr style=\"text-align: right;\">\n",
       "      <th></th>\n",
       "      <th>MFCC1_Mean</th>\n",
       "      <th>MFCC2_Mean</th>\n",
       "      <th>MFCC3_Mean</th>\n",
       "      <th>MFCC4_Mean</th>\n",
       "      <th>MFCC5_Mean</th>\n",
       "      <th>MFCC6_Mean</th>\n",
       "      <th>MFCC7_Mean</th>\n",
       "      <th>MFCC8_Mean</th>\n",
       "      <th>MFCC9_Mean</th>\n",
       "      <th>MFCC10_Mean</th>\n",
       "      <th>...</th>\n",
       "      <th>MFCC12_Var</th>\n",
       "      <th>MFCC13_Var</th>\n",
       "      <th>MFCC14_Var</th>\n",
       "      <th>MFCC15_Var</th>\n",
       "      <th>MFCC16_Var</th>\n",
       "      <th>MFCC17_Var</th>\n",
       "      <th>MFCC18_Var</th>\n",
       "      <th>MFCC19_Var</th>\n",
       "      <th>MFCC20_Var</th>\n",
       "      <th>Label</th>\n",
       "    </tr>\n",
       "  </thead>\n",
       "  <tbody>\n",
       "    <tr>\n",
       "      <th>0</th>\n",
       "      <td>-93.411186</td>\n",
       "      <td>147.278046</td>\n",
       "      <td>-97.258049</td>\n",
       "      <td>83.586334</td>\n",
       "      <td>-14.802794</td>\n",
       "      <td>20.762394</td>\n",
       "      <td>-7.277999</td>\n",
       "      <td>9.453241</td>\n",
       "      <td>-0.376516</td>\n",
       "      <td>7.875620</td>\n",
       "      <td>...</td>\n",
       "      <td>43.238956</td>\n",
       "      <td>26.841871</td>\n",
       "      <td>24.928793</td>\n",
       "      <td>19.325878</td>\n",
       "      <td>27.467104</td>\n",
       "      <td>24.696417</td>\n",
       "      <td>24.235260</td>\n",
       "      <td>21.569134</td>\n",
       "      <td>23.072239</td>\n",
       "      <td>metal</td>\n",
       "    </tr>\n",
       "    <tr>\n",
       "      <th>1</th>\n",
       "      <td>-65.975410</td>\n",
       "      <td>114.015350</td>\n",
       "      <td>-91.296211</td>\n",
       "      <td>75.249908</td>\n",
       "      <td>-29.545425</td>\n",
       "      <td>21.402174</td>\n",
       "      <td>-17.291033</td>\n",
       "      <td>16.866028</td>\n",
       "      <td>-15.112152</td>\n",
       "      <td>12.151247</td>\n",
       "      <td>...</td>\n",
       "      <td>53.351036</td>\n",
       "      <td>41.479321</td>\n",
       "      <td>17.116251</td>\n",
       "      <td>29.222637</td>\n",
       "      <td>29.792177</td>\n",
       "      <td>17.065321</td>\n",
       "      <td>17.538721</td>\n",
       "      <td>20.774614</td>\n",
       "      <td>16.810940</td>\n",
       "      <td>metal</td>\n",
       "    </tr>\n",
       "    <tr>\n",
       "      <th>2</th>\n",
       "      <td>-61.660713</td>\n",
       "      <td>112.881172</td>\n",
       "      <td>-86.358490</td>\n",
       "      <td>69.170464</td>\n",
       "      <td>-25.941076</td>\n",
       "      <td>24.364878</td>\n",
       "      <td>-22.086647</td>\n",
       "      <td>18.880112</td>\n",
       "      <td>-13.000805</td>\n",
       "      <td>14.005173</td>\n",
       "      <td>...</td>\n",
       "      <td>36.167828</td>\n",
       "      <td>30.252613</td>\n",
       "      <td>23.398046</td>\n",
       "      <td>19.788950</td>\n",
       "      <td>23.081490</td>\n",
       "      <td>17.972075</td>\n",
       "      <td>23.284164</td>\n",
       "      <td>16.867950</td>\n",
       "      <td>15.886907</td>\n",
       "      <td>metal</td>\n",
       "    </tr>\n",
       "    <tr>\n",
       "      <th>3</th>\n",
       "      <td>-85.775391</td>\n",
       "      <td>139.275513</td>\n",
       "      <td>-91.946304</td>\n",
       "      <td>86.010201</td>\n",
       "      <td>-18.682989</td>\n",
       "      <td>25.845440</td>\n",
       "      <td>-7.294381</td>\n",
       "      <td>15.457644</td>\n",
       "      <td>-0.646857</td>\n",
       "      <td>9.919909</td>\n",
       "      <td>...</td>\n",
       "      <td>47.799232</td>\n",
       "      <td>23.859961</td>\n",
       "      <td>25.833527</td>\n",
       "      <td>18.115795</td>\n",
       "      <td>24.416447</td>\n",
       "      <td>19.360317</td>\n",
       "      <td>23.314762</td>\n",
       "      <td>18.214552</td>\n",
       "      <td>21.407824</td>\n",
       "      <td>metal</td>\n",
       "    </tr>\n",
       "    <tr>\n",
       "      <th>4</th>\n",
       "      <td>-104.304657</td>\n",
       "      <td>149.740524</td>\n",
       "      <td>-104.292702</td>\n",
       "      <td>81.813568</td>\n",
       "      <td>-8.931320</td>\n",
       "      <td>19.425995</td>\n",
       "      <td>-3.741026</td>\n",
       "      <td>5.969450</td>\n",
       "      <td>3.799001</td>\n",
       "      <td>7.449512</td>\n",
       "      <td>...</td>\n",
       "      <td>39.067505</td>\n",
       "      <td>31.955067</td>\n",
       "      <td>32.847073</td>\n",
       "      <td>31.047714</td>\n",
       "      <td>35.233013</td>\n",
       "      <td>16.906719</td>\n",
       "      <td>17.978216</td>\n",
       "      <td>21.101961</td>\n",
       "      <td>15.177757</td>\n",
       "      <td>metal</td>\n",
       "    </tr>\n",
       "  </tbody>\n",
       "</table>\n",
       "<p>5 rows × 41 columns</p>\n",
       "</div>"
      ],
      "text/plain": [
       "   MFCC1_Mean  MFCC2_Mean  MFCC3_Mean  MFCC4_Mean  MFCC5_Mean  MFCC6_Mean  \\\n",
       "0  -93.411186  147.278046  -97.258049   83.586334  -14.802794   20.762394   \n",
       "1  -65.975410  114.015350  -91.296211   75.249908  -29.545425   21.402174   \n",
       "2  -61.660713  112.881172  -86.358490   69.170464  -25.941076   24.364878   \n",
       "3  -85.775391  139.275513  -91.946304   86.010201  -18.682989   25.845440   \n",
       "4 -104.304657  149.740524 -104.292702   81.813568   -8.931320   19.425995   \n",
       "\n",
       "   MFCC7_Mean  MFCC8_Mean  MFCC9_Mean  MFCC10_Mean  ...  MFCC12_Var  \\\n",
       "0   -7.277999    9.453241   -0.376516     7.875620  ...   43.238956   \n",
       "1  -17.291033   16.866028  -15.112152    12.151247  ...   53.351036   \n",
       "2  -22.086647   18.880112  -13.000805    14.005173  ...   36.167828   \n",
       "3   -7.294381   15.457644   -0.646857     9.919909  ...   47.799232   \n",
       "4   -3.741026    5.969450    3.799001     7.449512  ...   39.067505   \n",
       "\n",
       "   MFCC13_Var  MFCC14_Var  MFCC15_Var  MFCC16_Var  MFCC17_Var  MFCC18_Var  \\\n",
       "0   26.841871   24.928793   19.325878   27.467104   24.696417   24.235260   \n",
       "1   41.479321   17.116251   29.222637   29.792177   17.065321   17.538721   \n",
       "2   30.252613   23.398046   19.788950   23.081490   17.972075   23.284164   \n",
       "3   23.859961   25.833527   18.115795   24.416447   19.360317   23.314762   \n",
       "4   31.955067   32.847073   31.047714   35.233013   16.906719   17.978216   \n",
       "\n",
       "   MFCC19_Var  MFCC20_Var  Label  \n",
       "0   21.569134   23.072239  metal  \n",
       "1   20.774614   16.810940  metal  \n",
       "2   16.867950   15.886907  metal  \n",
       "3   18.214552   21.407824  metal  \n",
       "4   21.101961   15.177757  metal  \n",
       "\n",
       "[5 rows x 41 columns]"
      ]
     },
     "execution_count": 2,
     "metadata": {},
     "output_type": "execute_result"
    }
   ],
   "source": [
    "data_train = pd.read_csv('data_train.csv')\n",
    "data_train.head()"
   ]
  },
  {
   "cell_type": "code",
   "execution_count": 3,
   "metadata": {},
   "outputs": [],
   "source": [
    "data_train = data_train.sample(frac=1, random_state = 101).reset_index(drop=True)"
   ]
  },
  {
   "cell_type": "code",
   "execution_count": 4,
   "metadata": {},
   "outputs": [],
   "source": [
    "classes = {'blues': 0, 'classical': 1, 'country': 2, 'disco': 3, 'hiphop': 4, 'jazz': 5, 'metal': 6, 'pop': 7, 'reggae': 8, 'rock': 9}"
   ]
  },
  {
   "cell_type": "code",
   "execution_count": 5,
   "metadata": {},
   "outputs": [],
   "source": [
    "data_train.Label = [classes[l] for l in data_train.Label]"
   ]
  },
  {
   "cell_type": "code",
   "execution_count": 6,
   "metadata": {},
   "outputs": [],
   "source": [
    "x_data = data_train[data_train.columns[:-1]]\n",
    "y_data = data_train['Label']"
   ]
  },
  {
   "cell_type": "code",
   "execution_count": 7,
   "metadata": {},
   "outputs": [],
   "source": [
    "x_train  = x_data[data_train.columns[:-1]][:8000]\n",
    "x_val  = x_data[data_train.columns[:-1]][8000:]\n",
    "\n",
    "y_train  = y_data[:8000]\n",
    "y_val  = y_data[8000:]"
   ]
  },
  {
   "cell_type": "markdown",
   "metadata": {},
   "source": [
    "# GridSearch SVM"
   ]
  },
  {
   "cell_type": "code",
   "execution_count": 8,
   "metadata": {},
   "outputs": [
    {
     "name": "stdout",
     "output_type": "stream",
     "text": [
      "Fitting 9 folds for each of 1 candidates, totalling 9 fits\n"
     ]
    },
    {
     "name": "stderr",
     "output_type": "stream",
     "text": [
      "[Parallel(n_jobs=-1)]: Using backend LokyBackend with 8 concurrent workers.\n",
      "[Parallel(n_jobs=-1)]: Done   4 out of   9 | elapsed:    7.5s remaining:    9.4s\n",
      "[Parallel(n_jobs=-1)]: Done   9 out of   9 | elapsed:    9.4s remaining:    0.0s\n",
      "[Parallel(n_jobs=-1)]: Done   9 out of   9 | elapsed:    9.4s finished\n"
     ]
    },
    {
     "data": {
      "text/plain": [
       "GridSearchCV(cv=9,\n",
       "             estimator=Pipeline(steps=[('scale', StandardScaler()),\n",
       "                                       ('var_tresh',\n",
       "                                        VarianceThreshold(threshold=0.1)),\n",
       "                                       ('cls', SVC())]),\n",
       "             n_jobs=-1, param_grid={'cls__C': [5], 'cls__kernel': ['rbf']},\n",
       "             scoring='accuracy', verbose=2)"
      ]
     },
     "execution_count": 8,
     "metadata": {},
     "output_type": "execute_result"
    }
   ],
   "source": [
    "params = {\n",
    "    \"cls__C\": [5],\n",
    "    \"cls__kernel\": ['rbf'],\n",
    "}\n",
    "\n",
    "pipe_svm = Pipeline([\n",
    "    ('scale', StandardScaler()),\n",
    "    ('var_tresh', VarianceThreshold(threshold=0.1)),\n",
    "    ('cls', SVC())\n",
    "])\n",
    "\n",
    "grid_svm = GridSearchCV(pipe_svm, params, scoring='accuracy', n_jobs=-1, cv=9,verbose=2)\n",
    "grid_svm.fit(x_train, y_train)"
   ]
  },
  {
   "cell_type": "code",
   "execution_count": 9,
   "metadata": {},
   "outputs": [
    {
     "name": "stdout",
     "output_type": "stream",
     "text": [
      "Best score on train set (accuracy) = 0.8437\n",
      "Best score on validation set (accuracy) = 0.8779\n"
     ]
    }
   ],
   "source": [
    "preds_val = grid_svm.predict(x_val)\n",
    "print(\"Best score on train set (accuracy) = {:.4f}\".format(grid_svm.best_score_))\n",
    "print(\"Best score on validation set (accuracy) = {:.4f}\".format(accuracy_score(y_val, preds_val)))"
   ]
  },
  {
   "cell_type": "markdown",
   "metadata": {},
   "source": [
    "# Test on YouTube data"
   ]
  },
  {
   "cell_type": "code",
   "execution_count": 10,
   "metadata": {},
   "outputs": [
    {
     "data": {
      "text/html": [
       "<div>\n",
       "<style scoped>\n",
       "    .dataframe tbody tr th:only-of-type {\n",
       "        vertical-align: middle;\n",
       "    }\n",
       "\n",
       "    .dataframe tbody tr th {\n",
       "        vertical-align: top;\n",
       "    }\n",
       "\n",
       "    .dataframe thead th {\n",
       "        text-align: right;\n",
       "    }\n",
       "</style>\n",
       "<table border=\"1\" class=\"dataframe\">\n",
       "  <thead>\n",
       "    <tr style=\"text-align: right;\">\n",
       "      <th></th>\n",
       "      <th>MFCC1_Mean</th>\n",
       "      <th>MFCC2_Mean</th>\n",
       "      <th>MFCC3_Mean</th>\n",
       "      <th>MFCC4_Mean</th>\n",
       "      <th>MFCC5_Mean</th>\n",
       "      <th>MFCC6_Mean</th>\n",
       "      <th>MFCC7_Mean</th>\n",
       "      <th>MFCC8_Mean</th>\n",
       "      <th>MFCC9_Mean</th>\n",
       "      <th>MFCC10_Mean</th>\n",
       "      <th>...</th>\n",
       "      <th>MFCC12_Var</th>\n",
       "      <th>MFCC13_Var</th>\n",
       "      <th>MFCC14_Var</th>\n",
       "      <th>MFCC15_Var</th>\n",
       "      <th>MFCC16_Var</th>\n",
       "      <th>MFCC17_Var</th>\n",
       "      <th>MFCC18_Var</th>\n",
       "      <th>MFCC19_Var</th>\n",
       "      <th>MFCC20_Var</th>\n",
       "      <th>Label</th>\n",
       "    </tr>\n",
       "  </thead>\n",
       "  <tbody>\n",
       "    <tr>\n",
       "      <th>0</th>\n",
       "      <td>-249.010376</td>\n",
       "      <td>149.310394</td>\n",
       "      <td>-38.809299</td>\n",
       "      <td>42.263432</td>\n",
       "      <td>-14.468389</td>\n",
       "      <td>10.295317</td>\n",
       "      <td>-13.667592</td>\n",
       "      <td>4.414966</td>\n",
       "      <td>-4.662990</td>\n",
       "      <td>0.519707</td>\n",
       "      <td>...</td>\n",
       "      <td>122.881081</td>\n",
       "      <td>72.274254</td>\n",
       "      <td>66.570541</td>\n",
       "      <td>259.968506</td>\n",
       "      <td>53.388855</td>\n",
       "      <td>69.137527</td>\n",
       "      <td>52.009602</td>\n",
       "      <td>167.365768</td>\n",
       "      <td>55.598461</td>\n",
       "      <td>hiphop</td>\n",
       "    </tr>\n",
       "    <tr>\n",
       "      <th>1</th>\n",
       "      <td>-279.474091</td>\n",
       "      <td>167.203583</td>\n",
       "      <td>-20.340523</td>\n",
       "      <td>25.866331</td>\n",
       "      <td>-15.994143</td>\n",
       "      <td>0.329006</td>\n",
       "      <td>-22.783136</td>\n",
       "      <td>-1.330112</td>\n",
       "      <td>-11.841547</td>\n",
       "      <td>2.925979</td>\n",
       "      <td>...</td>\n",
       "      <td>186.408676</td>\n",
       "      <td>110.577431</td>\n",
       "      <td>178.660934</td>\n",
       "      <td>108.807304</td>\n",
       "      <td>61.083157</td>\n",
       "      <td>99.472855</td>\n",
       "      <td>71.585411</td>\n",
       "      <td>124.691971</td>\n",
       "      <td>158.015259</td>\n",
       "      <td>hiphop</td>\n",
       "    </tr>\n",
       "    <tr>\n",
       "      <th>2</th>\n",
       "      <td>-296.589569</td>\n",
       "      <td>145.014938</td>\n",
       "      <td>-8.389028</td>\n",
       "      <td>32.571354</td>\n",
       "      <td>-3.660239</td>\n",
       "      <td>20.281359</td>\n",
       "      <td>-22.275860</td>\n",
       "      <td>-11.310889</td>\n",
       "      <td>-22.031324</td>\n",
       "      <td>-7.625155</td>\n",
       "      <td>...</td>\n",
       "      <td>294.384308</td>\n",
       "      <td>259.512238</td>\n",
       "      <td>209.804428</td>\n",
       "      <td>81.502647</td>\n",
       "      <td>135.450653</td>\n",
       "      <td>67.957977</td>\n",
       "      <td>68.078758</td>\n",
       "      <td>237.000793</td>\n",
       "      <td>172.157974</td>\n",
       "      <td>hiphop</td>\n",
       "    </tr>\n",
       "    <tr>\n",
       "      <th>3</th>\n",
       "      <td>-240.589905</td>\n",
       "      <td>161.670792</td>\n",
       "      <td>-22.104473</td>\n",
       "      <td>38.933300</td>\n",
       "      <td>-15.202853</td>\n",
       "      <td>16.041809</td>\n",
       "      <td>-19.434389</td>\n",
       "      <td>0.025945</td>\n",
       "      <td>-13.720518</td>\n",
       "      <td>-4.024367</td>\n",
       "      <td>...</td>\n",
       "      <td>76.631096</td>\n",
       "      <td>91.791725</td>\n",
       "      <td>118.611588</td>\n",
       "      <td>73.517639</td>\n",
       "      <td>123.737152</td>\n",
       "      <td>55.229832</td>\n",
       "      <td>44.574848</td>\n",
       "      <td>99.319275</td>\n",
       "      <td>107.875664</td>\n",
       "      <td>hiphop</td>\n",
       "    </tr>\n",
       "    <tr>\n",
       "      <th>4</th>\n",
       "      <td>-141.305054</td>\n",
       "      <td>122.189499</td>\n",
       "      <td>-54.743061</td>\n",
       "      <td>65.195763</td>\n",
       "      <td>-40.119255</td>\n",
       "      <td>14.402914</td>\n",
       "      <td>-40.423481</td>\n",
       "      <td>3.981862</td>\n",
       "      <td>-8.399135</td>\n",
       "      <td>0.515828</td>\n",
       "      <td>...</td>\n",
       "      <td>143.140717</td>\n",
       "      <td>90.704193</td>\n",
       "      <td>92.015656</td>\n",
       "      <td>54.689579</td>\n",
       "      <td>74.343674</td>\n",
       "      <td>59.269360</td>\n",
       "      <td>64.264503</td>\n",
       "      <td>74.729507</td>\n",
       "      <td>127.474457</td>\n",
       "      <td>hiphop</td>\n",
       "    </tr>\n",
       "  </tbody>\n",
       "</table>\n",
       "<p>5 rows × 41 columns</p>\n",
       "</div>"
      ],
      "text/plain": [
       "   MFCC1_Mean  MFCC2_Mean  MFCC3_Mean  MFCC4_Mean  MFCC5_Mean  MFCC6_Mean  \\\n",
       "0 -249.010376  149.310394  -38.809299   42.263432  -14.468389   10.295317   \n",
       "1 -279.474091  167.203583  -20.340523   25.866331  -15.994143    0.329006   \n",
       "2 -296.589569  145.014938   -8.389028   32.571354   -3.660239   20.281359   \n",
       "3 -240.589905  161.670792  -22.104473   38.933300  -15.202853   16.041809   \n",
       "4 -141.305054  122.189499  -54.743061   65.195763  -40.119255   14.402914   \n",
       "\n",
       "   MFCC7_Mean  MFCC8_Mean  MFCC9_Mean  MFCC10_Mean  ...  MFCC12_Var  \\\n",
       "0  -13.667592    4.414966   -4.662990     0.519707  ...  122.881081   \n",
       "1  -22.783136   -1.330112  -11.841547     2.925979  ...  186.408676   \n",
       "2  -22.275860  -11.310889  -22.031324    -7.625155  ...  294.384308   \n",
       "3  -19.434389    0.025945  -13.720518    -4.024367  ...   76.631096   \n",
       "4  -40.423481    3.981862   -8.399135     0.515828  ...  143.140717   \n",
       "\n",
       "   MFCC13_Var  MFCC14_Var  MFCC15_Var  MFCC16_Var  MFCC17_Var  MFCC18_Var  \\\n",
       "0   72.274254   66.570541  259.968506   53.388855   69.137527   52.009602   \n",
       "1  110.577431  178.660934  108.807304   61.083157   99.472855   71.585411   \n",
       "2  259.512238  209.804428   81.502647  135.450653   67.957977   68.078758   \n",
       "3   91.791725  118.611588   73.517639  123.737152   55.229832   44.574848   \n",
       "4   90.704193   92.015656   54.689579   74.343674   59.269360   64.264503   \n",
       "\n",
       "   MFCC19_Var  MFCC20_Var   Label  \n",
       "0  167.365768   55.598461  hiphop  \n",
       "1  124.691971  158.015259  hiphop  \n",
       "2  237.000793  172.157974  hiphop  \n",
       "3   99.319275  107.875664  hiphop  \n",
       "4   74.729507  127.474457  hiphop  \n",
       "\n",
       "[5 rows x 41 columns]"
      ]
     },
     "execution_count": 10,
     "metadata": {},
     "output_type": "execute_result"
    }
   ],
   "source": [
    "data_test = pd.read_csv('data_test.csv')\n",
    "data_test.head()"
   ]
  },
  {
   "cell_type": "code",
   "execution_count": 11,
   "metadata": {},
   "outputs": [],
   "source": [
    "data_test.Label = [classes[l] for l in data_test.Label]"
   ]
  },
  {
   "cell_type": "code",
   "execution_count": 12,
   "metadata": {},
   "outputs": [],
   "source": [
    "x_test = data_test[data_test.columns[:-1]]\n",
    "y_test = data_test['Label']"
   ]
  },
  {
   "cell_type": "code",
   "execution_count": 13,
   "metadata": {},
   "outputs": [
    {
     "name": "stdout",
     "output_type": "stream",
     "text": [
      "Best score on test set (accuracy) = 0.2014\n"
     ]
    }
   ],
   "source": [
    "preds_test = grid_svm.predict(x_test)\n",
    "print(\"Best score on test set (accuracy) = {:.4f}\".format(accuracy_score(y_test, preds_test)))"
   ]
  },
  {
   "cell_type": "markdown",
   "metadata": {},
   "source": [
    "# Saving model"
   ]
  },
  {
   "cell_type": "code",
   "execution_count": 14,
   "metadata": {},
   "outputs": [],
   "source": [
    "filename = 'SVM.sav'\n",
    "pickle.dump(grid_svm, open(filename, 'wb'))"
   ]
  },
  {
   "cell_type": "code",
   "execution_count": 15,
   "metadata": {},
   "outputs": [
    {
     "name": "stdout",
     "output_type": "stream",
     "text": [
      "done\n"
     ]
    }
   ],
   "source": [
    "print('done')"
   ]
  },
  {
   "cell_type": "code",
   "execution_count": null,
   "metadata": {},
   "outputs": [],
   "source": []
  }
 ],
 "metadata": {
  "kernelspec": {
   "display_name": "Python 3",
   "language": "python",
   "name": "python3"
  },
  "language_info": {
   "codemirror_mode": {
    "name": "ipython",
    "version": 3
   },
   "file_extension": ".py",
   "mimetype": "text/x-python",
   "name": "python",
   "nbconvert_exporter": "python",
   "pygments_lexer": "ipython3",
   "version": "3.8.5"
  }
 },
 "nbformat": 4,
 "nbformat_minor": 4
}
