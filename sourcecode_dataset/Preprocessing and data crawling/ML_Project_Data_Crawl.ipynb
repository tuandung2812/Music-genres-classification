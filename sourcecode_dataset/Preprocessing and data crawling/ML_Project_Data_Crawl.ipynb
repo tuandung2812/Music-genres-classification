{
 "cells": [
  {
   "cell_type": "code",
   "execution_count": 1,
   "metadata": {},
   "outputs": [],
   "source": [
    "from __future__ import unicode_literals\n",
    "import os\n",
    "import argparse\n",
    "import youtube_dl\n",
    "import ffmpeg\n",
    "import shutil"
   ]
  },
  {
   "cell_type": "markdown",
   "metadata": {},
   "source": [
    "# Downloading the wav file of the first 20 songs from each playlists"
   ]
  },
  {
   "cell_type": "code",
   "execution_count": null,
   "metadata": {},
   "outputs": [],
   "source": [
    "from __future__ import unicode_literals\n",
    "import os\n",
    "import argparse\n",
    "import youtube_dl\n",
    "genre = ['blues', 'classical', 'country', 'disco', 'hiphop', 'jazz', 'metal', 'pop', 'reggae', 'rock']\n",
    "num = len(genre)\n",
    "\n",
    "#Adding youtube playlists corresponding to the genre on the genre list above\n",
    "\n",
    "playlist = []\n",
    "playlist.append(\"https://www.youtube.com/playlist?list=PLjzeyhEA84sQKuXp-rpM1dFuL2aQM_a3S\") #blues\n",
    "playlist.append(\"https://www.youtube.com/playlist?list=PLxvodScTx2RtAOoajGSu6ad4p8P8uXKQk\") #classical\n",
    "playlist.append(\"https://www.youtube.com/playlist?list=PL3oW2tjiIxvQW6c-4Iry8Bpp3QId40S5S\") #country\n",
    "playlist.append(\"https://www.youtube.com/playlist?list=PLEXox2R2RxZKUmrWKNF61K-kZSov14Snr\") #disco\n",
    "playlist.append(\"https://www.youtube.com/playlist?list=PLetgZKHHaF-Zq1Abh-ZGC4liPd_CV3Uo4\") #hiphop\n",
    "playlist.append(\"https://www.youtube.com/playlist?list=PL8F6B0753B2CCA128\") #jazz\n",
    "playlist.append(\"https://www.youtube.com/playlist?list=PLhQCJTkrHOwSX8LUnIMgaTq3chP1tiTut\") #metal\n",
    "playlist.append(\"https://www.youtube.com/playlist?list=PLMC9KNkIncKvYin_USF1qoJQnIyMAfRxl\") #pop\n",
    "playlist.append(\"https://www.youtube.com/playlist?list=PLb2aZl2AJg_VpTIQennzYzQVrA_fgRg7-\") #reggae\n",
    "playlist.append(\"https://www.youtube.com/playlist?list=PLNxOe-buLm6cz8UQ-hyG1nm3RTNBUBv3K\") #rock\n",
    "\n",
    "\n",
    "save_dir = []\n",
    "for i in range(num):\n",
    "    gen = genre[i]\n",
    "    \n",
    "    #This refers to the directory i use to store the file crawled from the internet(uncut). Please change accordingly to your own PC\n",
    "    heading = r\"C:\\\\Users\\\\Admin\\\\PycharmProjects\\\\pythonProject\\\\youtube-dl\\\\newtest\\\\\"\n",
    "    directory = heading +   gen\n",
    "    save_dir.append(directory)\n",
    "print(save_dir)\n",
    "lang = \"vn\"\n",
    "\n",
    "\n",
    "def my_hook(d):\n",
    "    if d['status'] == 'finished':\n",
    "        print('Done downloading, now converting ...')\n",
    "\n",
    "#Downloading the first 20 youtube videos on each playlists as wav files(uncut)\n",
    "for i in range(num):\n",
    "    ydl_opt = {\"format\": \"140\",\n",
    "               \"max_filesize = 1M\"\n",
    "               \"format_id\": \"140\",\n",
    "               \"postprocessors\": [{\n",
    "                   \"key\": \"FFmpegExtractAudio\",\n",
    "                   \"preferredcodec\": \"wav\",\n",
    "                   \"preferredquality\": \"140\"\n",
    "               }],\n",
    "               \"progress_hooks\": [my_hook],\n",
    "               \"playliststart\": 1,\n",
    "               \"playlistend\": 20,\n",
    "               \"subtitlesformat\": \"txt\",\n",
    "               \"subtitleslangs\": [lang],\n",
    "               \"outtmpl\": os.path.join(save_dir[i], \"%(title)s.%(ext)s\")\n",
    "               }\n",
    "    with youtube_dl.YoutubeDL(ydl_opt) as ydl:\n",
    "        ydl.download([playlist[i]])"
   ]
  },
  {
   "cell_type": "markdown",
   "metadata": {},
   "source": [
    "# Extracting the first 40 seconds of every songs"
   ]
  },
  {
   "cell_type": "code",
   "execution_count": null,
   "metadata": {},
   "outputs": [],
   "source": [
    "#This function is used to trim out the first 40 seconds of each songs, and save them to a new directory\n",
    "def cutting(filename, gen):\n",
    "    location = r\"C:\\\\Users\\\\Admin\\\\PycharmProjects\\\\pythonProject\\\\youtube-dl\\\\newtest\\\\{}\\\\\".format(gen) + filename\n",
    "    audio_input = ffmpeg.input(location)\n",
    "    audio_cut = audio_input.audio.filter(\"atrim\", duration=40)\n",
    "    #audio_output = ffmpeg.output(audio_cut,  filename[:-10:] + '.wav')\n",
    "    name = filename[:-15:]\n",
    "    audio_output = ffmpeg.output(audio_cut,  name + '.wav')\n",
    "    ffmpeg.run(audio_output)\n",
    "    shutil.move(r\"C:\\Users\\Admin\\PycharmProjects\\Virtual space\\{}.wav\".format(name),r\"G:\\testdata\\{}\".format(gen) )\n",
    "\n",
    "\n",
    "genre = ['blues','classical','country','disco','hiphop',\"jazz\",'metal','pop','reggae','rock']\n",
    "original_dir = []\n",
    "save_dir = []\n",
    "num = len(genre)\n",
    "for i in range(num):\n",
    "    gen = genre[i]\n",
    "    entries = os.listdir(\"C:\\\\Users\\Admin\\\\PycharmProjects\\\\pythonProject\\\\youtube-dl\\\\newtest\\\\\" + gen)\n",
    "    save_dir.append(\"G:\\\\testdata\\\\\" + gen)\n",
    "    original_dir.append(entries)\n",
    "\n",
    "for i in range(num):\n",
    "    first_dir = original_dir[i]\n",
    "    saved = save_dir[i]\n",
    "    for file in first_dir:\n",
    "        print(file)\n",
    "        cutting(file, genre[i])"
   ]
  }
 ],
 "metadata": {
  "kernelspec": {
   "display_name": "Python 3",
   "language": "python",
   "name": "python3"
  },
  "language_info": {
   "codemirror_mode": {
    "name": "ipython",
    "version": 3
   },
   "file_extension": ".py",
   "mimetype": "text/x-python",
   "name": "python",
   "nbconvert_exporter": "python",
   "pygments_lexer": "ipython3",
   "version": "3.8.5"
  }
 },
 "nbformat": 4,
 "nbformat_minor": 5
}
