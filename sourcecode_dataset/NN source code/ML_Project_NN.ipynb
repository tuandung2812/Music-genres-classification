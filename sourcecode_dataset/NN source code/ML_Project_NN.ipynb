{
 "cells": [
  {
   "cell_type": "code",
   "execution_count": 18,
   "metadata": {},
   "outputs": [],
   "source": [
    "import pandas as pd\n",
    "import sklearn\n",
    "from sklearn.preprocessing import StandardScaler\n",
    "from sklearn.model_selection import train_test_split\n",
    "\n",
    "import tensorflow as tf\n",
    "from tensorflow import keras\n",
    "import numpy as np\n",
    "import matplotlib.pyplot as plt\n",
    "import seaborn as sns"
   ]
  },
  {
   "cell_type": "markdown",
   "metadata": {},
   "source": [
    "# Loading original data"
   ]
  },
  {
   "cell_type": "code",
   "execution_count": 19,
   "metadata": {
    "scrolled": true
   },
   "outputs": [
    {
     "data": {
      "text/html": [
       "<div>\n",
       "<style scoped>\n",
       "    .dataframe tbody tr th:only-of-type {\n",
       "        vertical-align: middle;\n",
       "    }\n",
       "\n",
       "    .dataframe tbody tr th {\n",
       "        vertical-align: top;\n",
       "    }\n",
       "\n",
       "    .dataframe thead th {\n",
       "        text-align: right;\n",
       "    }\n",
       "</style>\n",
       "<table border=\"1\" class=\"dataframe\">\n",
       "  <thead>\n",
       "    <tr style=\"text-align: right;\">\n",
       "      <th></th>\n",
       "      <th>MFCC1_Mean</th>\n",
       "      <th>MFCC2_Mean</th>\n",
       "      <th>MFCC3_Mean</th>\n",
       "      <th>MFCC4_Mean</th>\n",
       "      <th>MFCC5_Mean</th>\n",
       "      <th>MFCC6_Mean</th>\n",
       "      <th>MFCC7_Mean</th>\n",
       "      <th>MFCC8_Mean</th>\n",
       "      <th>MFCC9_Mean</th>\n",
       "      <th>MFCC10_Mean</th>\n",
       "      <th>...</th>\n",
       "      <th>MFCC12_Var</th>\n",
       "      <th>MFCC13_Var</th>\n",
       "      <th>MFCC14_Var</th>\n",
       "      <th>MFCC15_Var</th>\n",
       "      <th>MFCC16_Var</th>\n",
       "      <th>MFCC17_Var</th>\n",
       "      <th>MFCC18_Var</th>\n",
       "      <th>MFCC19_Var</th>\n",
       "      <th>MFCC20_Var</th>\n",
       "      <th>Label</th>\n",
       "    </tr>\n",
       "  </thead>\n",
       "  <tbody>\n",
       "    <tr>\n",
       "      <th>0</th>\n",
       "      <td>-93.411186</td>\n",
       "      <td>147.278046</td>\n",
       "      <td>-97.258049</td>\n",
       "      <td>83.586334</td>\n",
       "      <td>-14.802794</td>\n",
       "      <td>20.762394</td>\n",
       "      <td>-7.277999</td>\n",
       "      <td>9.453241</td>\n",
       "      <td>-0.376516</td>\n",
       "      <td>7.875620</td>\n",
       "      <td>...</td>\n",
       "      <td>43.238956</td>\n",
       "      <td>26.841871</td>\n",
       "      <td>24.928793</td>\n",
       "      <td>19.325878</td>\n",
       "      <td>27.467104</td>\n",
       "      <td>24.696417</td>\n",
       "      <td>24.235260</td>\n",
       "      <td>21.569134</td>\n",
       "      <td>23.072239</td>\n",
       "      <td>metal</td>\n",
       "    </tr>\n",
       "    <tr>\n",
       "      <th>1</th>\n",
       "      <td>-65.975410</td>\n",
       "      <td>114.015350</td>\n",
       "      <td>-91.296211</td>\n",
       "      <td>75.249908</td>\n",
       "      <td>-29.545425</td>\n",
       "      <td>21.402174</td>\n",
       "      <td>-17.291033</td>\n",
       "      <td>16.866028</td>\n",
       "      <td>-15.112152</td>\n",
       "      <td>12.151247</td>\n",
       "      <td>...</td>\n",
       "      <td>53.351036</td>\n",
       "      <td>41.479321</td>\n",
       "      <td>17.116251</td>\n",
       "      <td>29.222637</td>\n",
       "      <td>29.792177</td>\n",
       "      <td>17.065321</td>\n",
       "      <td>17.538721</td>\n",
       "      <td>20.774614</td>\n",
       "      <td>16.810940</td>\n",
       "      <td>metal</td>\n",
       "    </tr>\n",
       "    <tr>\n",
       "      <th>2</th>\n",
       "      <td>-61.660713</td>\n",
       "      <td>112.881172</td>\n",
       "      <td>-86.358490</td>\n",
       "      <td>69.170464</td>\n",
       "      <td>-25.941076</td>\n",
       "      <td>24.364878</td>\n",
       "      <td>-22.086647</td>\n",
       "      <td>18.880112</td>\n",
       "      <td>-13.000805</td>\n",
       "      <td>14.005173</td>\n",
       "      <td>...</td>\n",
       "      <td>36.167828</td>\n",
       "      <td>30.252613</td>\n",
       "      <td>23.398046</td>\n",
       "      <td>19.788950</td>\n",
       "      <td>23.081490</td>\n",
       "      <td>17.972075</td>\n",
       "      <td>23.284164</td>\n",
       "      <td>16.867950</td>\n",
       "      <td>15.886907</td>\n",
       "      <td>metal</td>\n",
       "    </tr>\n",
       "    <tr>\n",
       "      <th>3</th>\n",
       "      <td>-85.775391</td>\n",
       "      <td>139.275513</td>\n",
       "      <td>-91.946304</td>\n",
       "      <td>86.010201</td>\n",
       "      <td>-18.682989</td>\n",
       "      <td>25.845440</td>\n",
       "      <td>-7.294381</td>\n",
       "      <td>15.457644</td>\n",
       "      <td>-0.646857</td>\n",
       "      <td>9.919909</td>\n",
       "      <td>...</td>\n",
       "      <td>47.799232</td>\n",
       "      <td>23.859961</td>\n",
       "      <td>25.833527</td>\n",
       "      <td>18.115795</td>\n",
       "      <td>24.416447</td>\n",
       "      <td>19.360317</td>\n",
       "      <td>23.314762</td>\n",
       "      <td>18.214552</td>\n",
       "      <td>21.407824</td>\n",
       "      <td>metal</td>\n",
       "    </tr>\n",
       "    <tr>\n",
       "      <th>4</th>\n",
       "      <td>-104.304657</td>\n",
       "      <td>149.740524</td>\n",
       "      <td>-104.292702</td>\n",
       "      <td>81.813568</td>\n",
       "      <td>-8.931320</td>\n",
       "      <td>19.425995</td>\n",
       "      <td>-3.741026</td>\n",
       "      <td>5.969450</td>\n",
       "      <td>3.799001</td>\n",
       "      <td>7.449512</td>\n",
       "      <td>...</td>\n",
       "      <td>39.067505</td>\n",
       "      <td>31.955067</td>\n",
       "      <td>32.847073</td>\n",
       "      <td>31.047714</td>\n",
       "      <td>35.233013</td>\n",
       "      <td>16.906719</td>\n",
       "      <td>17.978216</td>\n",
       "      <td>21.101961</td>\n",
       "      <td>15.177757</td>\n",
       "      <td>metal</td>\n",
       "    </tr>\n",
       "  </tbody>\n",
       "</table>\n",
       "<p>5 rows × 41 columns</p>\n",
       "</div>"
      ],
      "text/plain": [
       "   MFCC1_Mean  MFCC2_Mean  MFCC3_Mean  MFCC4_Mean  MFCC5_Mean  MFCC6_Mean  \\\n",
       "0  -93.411186  147.278046  -97.258049   83.586334  -14.802794   20.762394   \n",
       "1  -65.975410  114.015350  -91.296211   75.249908  -29.545425   21.402174   \n",
       "2  -61.660713  112.881172  -86.358490   69.170464  -25.941076   24.364878   \n",
       "3  -85.775391  139.275513  -91.946304   86.010201  -18.682989   25.845440   \n",
       "4 -104.304657  149.740524 -104.292702   81.813568   -8.931320   19.425995   \n",
       "\n",
       "   MFCC7_Mean  MFCC8_Mean  MFCC9_Mean  MFCC10_Mean  ...  MFCC12_Var  \\\n",
       "0   -7.277999    9.453241   -0.376516     7.875620  ...   43.238956   \n",
       "1  -17.291033   16.866028  -15.112152    12.151247  ...   53.351036   \n",
       "2  -22.086647   18.880112  -13.000805    14.005173  ...   36.167828   \n",
       "3   -7.294381   15.457644   -0.646857     9.919909  ...   47.799232   \n",
       "4   -3.741026    5.969450    3.799001     7.449512  ...   39.067505   \n",
       "\n",
       "   MFCC13_Var  MFCC14_Var  MFCC15_Var  MFCC16_Var  MFCC17_Var  MFCC18_Var  \\\n",
       "0   26.841871   24.928793   19.325878   27.467104   24.696417   24.235260   \n",
       "1   41.479321   17.116251   29.222637   29.792177   17.065321   17.538721   \n",
       "2   30.252613   23.398046   19.788950   23.081490   17.972075   23.284164   \n",
       "3   23.859961   25.833527   18.115795   24.416447   19.360317   23.314762   \n",
       "4   31.955067   32.847073   31.047714   35.233013   16.906719   17.978216   \n",
       "\n",
       "   MFCC19_Var  MFCC20_Var  Label  \n",
       "0   21.569134   23.072239  metal  \n",
       "1   20.774614   16.810940  metal  \n",
       "2   16.867950   15.886907  metal  \n",
       "3   18.214552   21.407824  metal  \n",
       "4   21.101961   15.177757  metal  \n",
       "\n",
       "[5 rows x 41 columns]"
      ]
     },
     "execution_count": 19,
     "metadata": {},
     "output_type": "execute_result"
    }
   ],
   "source": [
    "data = pd.read_csv('data_train.csv')\n",
    "data.head()"
   ]
  },
  {
   "cell_type": "code",
   "execution_count": 20,
   "metadata": {},
   "outputs": [],
   "source": [
    "data = data.sample(frac=1, random_state = 101).reset_index(drop=True)"
   ]
  },
  {
   "cell_type": "code",
   "execution_count": 21,
   "metadata": {},
   "outputs": [],
   "source": [
    "classes = {'blues': 0, 'classical': 1, 'country': 2, 'disco': 3, 'hiphop': 4, 'jazz': 5, 'metal': 6, 'pop': 7, 'reggae': 8, 'rock': 9}"
   ]
  },
  {
   "cell_type": "code",
   "execution_count": 22,
   "metadata": {},
   "outputs": [],
   "source": [
    "x_data = data[data.columns[:-1]]\n",
    "y_data = pd.Categorical(data['Label']).codes"
   ]
  },
  {
   "cell_type": "code",
   "execution_count": 23,
   "metadata": {},
   "outputs": [],
   "source": [
    "x_train  = x_data[data.columns[:-1]][:8000]\n",
    "x_val  = x_data[data.columns[:-1]][8000:]\n",
    "\n",
    "y_train  = y_data[:8000]\n",
    "y_val  = y_data[8000:]"
   ]
  },
  {
   "cell_type": "code",
   "execution_count": 24,
   "metadata": {},
   "outputs": [],
   "source": [
    "scaler = StandardScaler()\n",
    "\n",
    "scaled_tr = scaler.fit_transform(x_train)\n",
    "x_train = pd.DataFrame(scaled_tr, columns=x_train.columns)\n",
    "\n",
    "scaled_val = scaler.fit_transform(x_val)\n",
    "x_val = pd.DataFrame(scaled_val, columns=x_val.columns)"
   ]
  },
  {
   "cell_type": "markdown",
   "metadata": {},
   "source": [
    "## Neural Network Architecture"
   ]
  },
  {
   "cell_type": "code",
   "execution_count": 25,
   "metadata": {
    "scrolled": true
   },
   "outputs": [
    {
     "name": "stdout",
     "output_type": "stream",
     "text": [
      "Model: \"sequential_1\"\n",
      "_________________________________________________________________\n",
      "Layer (type)                 Output Shape              Param #   \n",
      "=================================================================\n",
      "dense_4 (Dense)              (None, 512)               20992     \n",
      "_________________________________________________________________\n",
      "dropout_3 (Dropout)          (None, 512)               0         \n",
      "_________________________________________________________________\n",
      "dense_5 (Dense)              (None, 256)               131328    \n",
      "_________________________________________________________________\n",
      "dropout_4 (Dropout)          (None, 256)               0         \n",
      "_________________________________________________________________\n",
      "dense_6 (Dense)              (None, 32)                8224      \n",
      "_________________________________________________________________\n",
      "dropout_5 (Dropout)          (None, 32)                0         \n",
      "_________________________________________________________________\n",
      "dense_7 (Dense)              (None, 10)                330       \n",
      "=================================================================\n",
      "Total params: 160,874\n",
      "Trainable params: 160,874\n",
      "Non-trainable params: 0\n",
      "_________________________________________________________________\n"
     ]
    }
   ],
   "source": [
    "model = tf.keras.Sequential()\n",
    "\n",
    "model.add(keras.layers.Dense(512, activation='relu', input_shape=(x_train.shape[1],)))\n",
    "model.add(keras.layers.Dropout(0.2))\n",
    "model.add(keras.layers.Dense(256, activation= 'relu'))\n",
    "model.add(keras.layers.Dropout(0.2))\n",
    "model.add(keras.layers.Dense(32, activation= 'relu'))\n",
    "model.add(keras.layers.Dropout(0.2))\n",
    "\n",
    "model.add(keras.layers.Dense(10, activation= 'softmax'))\n",
    "model.summary()"
   ]
  },
  {
   "cell_type": "code",
   "execution_count": 26,
   "metadata": {},
   "outputs": [
    {
     "name": "stdout",
     "output_type": "stream",
     "text": [
      "Epoch 1/100\n",
      "125/125 [==============================] - 2s 6ms/step - loss: 2.2437 - accuracy: 0.1718 - val_loss: 1.8605 - val_accuracy: 0.3992\n",
      "Epoch 2/100\n",
      "125/125 [==============================] - 0s 3ms/step - loss: 1.8448 - accuracy: 0.3686 - val_loss: 1.5759 - val_accuracy: 0.4608\n",
      "Epoch 3/100\n",
      "125/125 [==============================] - 0s 4ms/step - loss: 1.6308 - accuracy: 0.4388 - val_loss: 1.3990 - val_accuracy: 0.5214\n",
      "Epoch 4/100\n",
      "125/125 [==============================] - 1s 5ms/step - loss: 1.4962 - accuracy: 0.4730 - val_loss: 1.2856 - val_accuracy: 0.5680\n",
      "Epoch 5/100\n",
      "125/125 [==============================] - 1s 5ms/step - loss: 1.4081 - accuracy: 0.5141 - val_loss: 1.1875 - val_accuracy: 0.6008\n",
      "Epoch 6/100\n",
      "125/125 [==============================] - 1s 5ms/step - loss: 1.3438 - accuracy: 0.5299 - val_loss: 1.1226 - val_accuracy: 0.6266\n",
      "Epoch 7/100\n",
      "125/125 [==============================] - 1s 5ms/step - loss: 1.2554 - accuracy: 0.5662 - val_loss: 1.0676 - val_accuracy: 0.6405\n",
      "Epoch 8/100\n",
      "125/125 [==============================] - 1s 5ms/step - loss: 1.2384 - accuracy: 0.5670 - val_loss: 1.0244 - val_accuracy: 0.6683\n",
      "Epoch 9/100\n",
      "125/125 [==============================] - 1s 5ms/step - loss: 1.1791 - accuracy: 0.5893 - val_loss: 0.9936 - val_accuracy: 0.6773\n",
      "Epoch 10/100\n",
      "125/125 [==============================] - 1s 6ms/step - loss: 1.1454 - accuracy: 0.5991 - val_loss: 0.9580 - val_accuracy: 0.7021\n",
      "Epoch 11/100\n",
      "125/125 [==============================] - 1s 6ms/step - loss: 1.0953 - accuracy: 0.6165 - val_loss: 0.9343 - val_accuracy: 0.7001\n",
      "Epoch 12/100\n",
      "125/125 [==============================] - 1s 5ms/step - loss: 1.1027 - accuracy: 0.6148 - val_loss: 0.9140 - val_accuracy: 0.7041\n",
      "Epoch 13/100\n",
      "125/125 [==============================] - 1s 5ms/step - loss: 1.0631 - accuracy: 0.6275 - val_loss: 0.8839 - val_accuracy: 0.7031\n",
      "Epoch 14/100\n",
      "125/125 [==============================] - 1s 5ms/step - loss: 1.0492 - accuracy: 0.6414 - val_loss: 0.8613 - val_accuracy: 0.7239\n",
      "Epoch 15/100\n",
      "125/125 [==============================] - 1s 5ms/step - loss: 1.0392 - accuracy: 0.6404 - val_loss: 0.8469 - val_accuracy: 0.7309\n",
      "Epoch 16/100\n",
      "125/125 [==============================] - 1s 5ms/step - loss: 1.0000 - accuracy: 0.6566 - val_loss: 0.8341 - val_accuracy: 0.7319\n",
      "Epoch 17/100\n",
      "125/125 [==============================] - 1s 5ms/step - loss: 0.9713 - accuracy: 0.6682 - val_loss: 0.8179 - val_accuracy: 0.7339\n",
      "Epoch 18/100\n",
      "125/125 [==============================] - 1s 5ms/step - loss: 0.9655 - accuracy: 0.6739 - val_loss: 0.7985 - val_accuracy: 0.7388\n",
      "Epoch 19/100\n",
      "125/125 [==============================] - 1s 5ms/step - loss: 0.9344 - accuracy: 0.6789 - val_loss: 0.7902 - val_accuracy: 0.7388\n",
      "Epoch 20/100\n",
      "125/125 [==============================] - 1s 5ms/step - loss: 0.9409 - accuracy: 0.6716 - val_loss: 0.7768 - val_accuracy: 0.7458\n",
      "Epoch 21/100\n",
      "125/125 [==============================] - 1s 4ms/step - loss: 0.9104 - accuracy: 0.6820 - val_loss: 0.7607 - val_accuracy: 0.7537\n",
      "Epoch 22/100\n",
      "125/125 [==============================] - 1s 4ms/step - loss: 0.8883 - accuracy: 0.6937 - val_loss: 0.7549 - val_accuracy: 0.7627\n",
      "Epoch 23/100\n",
      "125/125 [==============================] - 1s 5ms/step - loss: 0.8937 - accuracy: 0.6898 - val_loss: 0.7433 - val_accuracy: 0.7498\n",
      "Epoch 24/100\n",
      "125/125 [==============================] - 1s 5ms/step - loss: 0.8685 - accuracy: 0.6999 - val_loss: 0.7354 - val_accuracy: 0.7527\n",
      "Epoch 25/100\n",
      "125/125 [==============================] - 1s 5ms/step - loss: 0.8700 - accuracy: 0.6954 - val_loss: 0.7249 - val_accuracy: 0.7617\n",
      "Epoch 26/100\n",
      "125/125 [==============================] - 1s 5ms/step - loss: 0.8428 - accuracy: 0.7170 - val_loss: 0.7156 - val_accuracy: 0.7627\n",
      "Epoch 27/100\n",
      "125/125 [==============================] - 1s 5ms/step - loss: 0.8247 - accuracy: 0.7215 - val_loss: 0.7061 - val_accuracy: 0.7716\n",
      "Epoch 28/100\n",
      "125/125 [==============================] - 1s 4ms/step - loss: 0.8268 - accuracy: 0.7137 - val_loss: 0.6953 - val_accuracy: 0.7676\n",
      "Epoch 29/100\n",
      "125/125 [==============================] - 1s 5ms/step - loss: 0.7977 - accuracy: 0.7225 - val_loss: 0.6836 - val_accuracy: 0.7607\n",
      "Epoch 30/100\n",
      "125/125 [==============================] - 1s 4ms/step - loss: 0.8249 - accuracy: 0.7155 - val_loss: 0.6815 - val_accuracy: 0.7676\n",
      "Epoch 31/100\n",
      "125/125 [==============================] - 1s 5ms/step - loss: 0.7976 - accuracy: 0.7306 - val_loss: 0.6698 - val_accuracy: 0.7716\n",
      "Epoch 32/100\n",
      "125/125 [==============================] - 1s 6ms/step - loss: 0.7700 - accuracy: 0.7318 - val_loss: 0.6649 - val_accuracy: 0.7746\n",
      "Epoch 33/100\n",
      "125/125 [==============================] - 1s 5ms/step - loss: 0.7710 - accuracy: 0.7350 - val_loss: 0.6626 - val_accuracy: 0.7776\n",
      "Epoch 34/100\n",
      "125/125 [==============================] - 1s 5ms/step - loss: 0.7779 - accuracy: 0.7337 - val_loss: 0.6515 - val_accuracy: 0.7825\n",
      "Epoch 35/100\n",
      "125/125 [==============================] - 1s 6ms/step - loss: 0.7424 - accuracy: 0.7424 - val_loss: 0.6427 - val_accuracy: 0.7825\n",
      "Epoch 36/100\n",
      "125/125 [==============================] - 1s 6ms/step - loss: 0.7230 - accuracy: 0.7544 - val_loss: 0.6360 - val_accuracy: 0.7895\n",
      "Epoch 37/100\n",
      "125/125 [==============================] - 1s 6ms/step - loss: 0.7337 - accuracy: 0.7433 - val_loss: 0.6304 - val_accuracy: 0.7885\n",
      "Epoch 38/100\n",
      "125/125 [==============================] - 1s 6ms/step - loss: 0.7148 - accuracy: 0.7530 - val_loss: 0.6260 - val_accuracy: 0.7934\n",
      "Epoch 39/100\n",
      "125/125 [==============================] - 1s 5ms/step - loss: 0.7206 - accuracy: 0.7497 - val_loss: 0.6156 - val_accuracy: 0.7895\n",
      "Epoch 40/100\n",
      "125/125 [==============================] - 1s 5ms/step - loss: 0.6954 - accuracy: 0.7679 - val_loss: 0.6091 - val_accuracy: 0.7974\n",
      "Epoch 41/100\n",
      "125/125 [==============================] - 1s 5ms/step - loss: 0.7111 - accuracy: 0.7562 - val_loss: 0.6024 - val_accuracy: 0.7994\n",
      "Epoch 42/100\n",
      "125/125 [==============================] - 1s 4ms/step - loss: 0.7001 - accuracy: 0.7670 - val_loss: 0.5989 - val_accuracy: 0.8034\n",
      "Epoch 43/100\n",
      "125/125 [==============================] - 1s 5ms/step - loss: 0.6795 - accuracy: 0.7674 - val_loss: 0.5950 - val_accuracy: 0.8014\n",
      "Epoch 44/100\n",
      "125/125 [==============================] - 1s 4ms/step - loss: 0.6681 - accuracy: 0.7751 - val_loss: 0.5898 - val_accuracy: 0.8093\n",
      "Epoch 45/100\n",
      "125/125 [==============================] - 1s 4ms/step - loss: 0.6630 - accuracy: 0.7725 - val_loss: 0.5871 - val_accuracy: 0.8064\n",
      "Epoch 46/100\n",
      "125/125 [==============================] - 1s 5ms/step - loss: 0.6625 - accuracy: 0.7739 - val_loss: 0.5859 - val_accuracy: 0.7994\n",
      "Epoch 47/100\n",
      "125/125 [==============================] - 1s 4ms/step - loss: 0.6443 - accuracy: 0.7756 - val_loss: 0.5787 - val_accuracy: 0.8024\n",
      "Epoch 48/100\n",
      "125/125 [==============================] - 1s 4ms/step - loss: 0.6231 - accuracy: 0.7839 - val_loss: 0.5767 - val_accuracy: 0.8083\n",
      "Epoch 49/100\n",
      "125/125 [==============================] - 1s 4ms/step - loss: 0.6281 - accuracy: 0.7883 - val_loss: 0.5654 - val_accuracy: 0.8123\n",
      "Epoch 50/100\n",
      "125/125 [==============================] - 1s 4ms/step - loss: 0.6245 - accuracy: 0.7873 - val_loss: 0.5594 - val_accuracy: 0.8153\n",
      "Epoch 51/100\n",
      "125/125 [==============================] - 1s 4ms/step - loss: 0.6137 - accuracy: 0.7901 - val_loss: 0.5588 - val_accuracy: 0.8153\n",
      "Epoch 52/100\n",
      "125/125 [==============================] - 1s 4ms/step - loss: 0.6163 - accuracy: 0.7897 - val_loss: 0.5554 - val_accuracy: 0.8153\n",
      "Epoch 53/100\n",
      "125/125 [==============================] - 1s 4ms/step - loss: 0.6049 - accuracy: 0.7911 - val_loss: 0.5515 - val_accuracy: 0.8183\n",
      "Epoch 54/100\n",
      "125/125 [==============================] - 1s 4ms/step - loss: 0.6079 - accuracy: 0.7998 - val_loss: 0.5458 - val_accuracy: 0.8183\n",
      "Epoch 55/100\n",
      "125/125 [==============================] - 1s 4ms/step - loss: 0.5811 - accuracy: 0.8080 - val_loss: 0.5427 - val_accuracy: 0.8252\n",
      "Epoch 56/100\n",
      "125/125 [==============================] - 1s 4ms/step - loss: 0.5691 - accuracy: 0.8055 - val_loss: 0.5396 - val_accuracy: 0.8163\n",
      "Epoch 57/100\n",
      "125/125 [==============================] - 0s 4ms/step - loss: 0.5815 - accuracy: 0.8003 - val_loss: 0.5366 - val_accuracy: 0.8213\n"
     ]
    },
    {
     "name": "stdout",
     "output_type": "stream",
     "text": [
      "Epoch 58/100\n",
      "125/125 [==============================] - 1s 4ms/step - loss: 0.5739 - accuracy: 0.7989 - val_loss: 0.5350 - val_accuracy: 0.8222\n",
      "Epoch 59/100\n",
      "125/125 [==============================] - 0s 4ms/step - loss: 0.5658 - accuracy: 0.8069 - val_loss: 0.5249 - val_accuracy: 0.8252\n",
      "Epoch 60/100\n",
      "125/125 [==============================] - 0s 4ms/step - loss: 0.5543 - accuracy: 0.8065 - val_loss: 0.5169 - val_accuracy: 0.8292\n",
      "Epoch 61/100\n",
      "125/125 [==============================] - 1s 4ms/step - loss: 0.5550 - accuracy: 0.8109 - val_loss: 0.5154 - val_accuracy: 0.8342\n",
      "Epoch 62/100\n",
      "125/125 [==============================] - 1s 4ms/step - loss: 0.5689 - accuracy: 0.8060 - val_loss: 0.5246 - val_accuracy: 0.8322\n",
      "Epoch 63/100\n",
      "125/125 [==============================] - 1s 4ms/step - loss: 0.5569 - accuracy: 0.8118 - val_loss: 0.5092 - val_accuracy: 0.8322\n",
      "Epoch 64/100\n",
      "125/125 [==============================] - 0s 4ms/step - loss: 0.5490 - accuracy: 0.8122 - val_loss: 0.5069 - val_accuracy: 0.8401\n",
      "Epoch 65/100\n",
      "125/125 [==============================] - 1s 4ms/step - loss: 0.5067 - accuracy: 0.8227 - val_loss: 0.5091 - val_accuracy: 0.8342\n",
      "Epoch 66/100\n",
      "125/125 [==============================] - 0s 4ms/step - loss: 0.5351 - accuracy: 0.8241 - val_loss: 0.4988 - val_accuracy: 0.8361\n",
      "Epoch 67/100\n",
      "125/125 [==============================] - 1s 5ms/step - loss: 0.5223 - accuracy: 0.8276 - val_loss: 0.4989 - val_accuracy: 0.8342\n",
      "Epoch 68/100\n",
      "125/125 [==============================] - 1s 6ms/step - loss: 0.4999 - accuracy: 0.8343 - val_loss: 0.4971 - val_accuracy: 0.8371\n",
      "Epoch 69/100\n",
      "125/125 [==============================] - 1s 8ms/step - loss: 0.5051 - accuracy: 0.8312 - val_loss: 0.4936 - val_accuracy: 0.8391\n",
      "Epoch 70/100\n",
      "125/125 [==============================] - 1s 6ms/step - loss: 0.5145 - accuracy: 0.8222 - val_loss: 0.4865 - val_accuracy: 0.8421\n",
      "Epoch 71/100\n",
      "125/125 [==============================] - 1s 6ms/step - loss: 0.4938 - accuracy: 0.8280 - val_loss: 0.4903 - val_accuracy: 0.8371\n",
      "Epoch 72/100\n",
      "125/125 [==============================] - 1s 5ms/step - loss: 0.4895 - accuracy: 0.8320 - val_loss: 0.4792 - val_accuracy: 0.8510\n",
      "Epoch 73/100\n",
      "125/125 [==============================] - 1s 5ms/step - loss: 0.4628 - accuracy: 0.8458 - val_loss: 0.4800 - val_accuracy: 0.8441\n",
      "Epoch 74/100\n",
      "125/125 [==============================] - 1s 5ms/step - loss: 0.4870 - accuracy: 0.8377 - val_loss: 0.4828 - val_accuracy: 0.8431\n",
      "Epoch 75/100\n",
      "125/125 [==============================] - 1s 4ms/step - loss: 0.4637 - accuracy: 0.8455 - val_loss: 0.4835 - val_accuracy: 0.8391\n",
      "Epoch 76/100\n",
      "125/125 [==============================] - 1s 5ms/step - loss: 0.4685 - accuracy: 0.8394 - val_loss: 0.4770 - val_accuracy: 0.8461\n",
      "Epoch 77/100\n",
      "125/125 [==============================] - 1s 4ms/step - loss: 0.4633 - accuracy: 0.8429 - val_loss: 0.4752 - val_accuracy: 0.8451\n",
      "Epoch 78/100\n",
      "125/125 [==============================] - 1s 4ms/step - loss: 0.4610 - accuracy: 0.8448 - val_loss: 0.4669 - val_accuracy: 0.8481\n",
      "Epoch 79/100\n",
      "125/125 [==============================] - 1s 4ms/step - loss: 0.4466 - accuracy: 0.8451 - val_loss: 0.4659 - val_accuracy: 0.8421\n",
      "Epoch 80/100\n",
      "125/125 [==============================] - 1s 4ms/step - loss: 0.4609 - accuracy: 0.8449 - val_loss: 0.4599 - val_accuracy: 0.8570\n",
      "Epoch 81/100\n",
      "125/125 [==============================] - 1s 4ms/step - loss: 0.4464 - accuracy: 0.8503 - val_loss: 0.4595 - val_accuracy: 0.8481\n",
      "Epoch 82/100\n",
      "125/125 [==============================] - 1s 4ms/step - loss: 0.4261 - accuracy: 0.8567 - val_loss: 0.4534 - val_accuracy: 0.8471\n",
      "Epoch 83/100\n",
      "125/125 [==============================] - 1s 5ms/step - loss: 0.4329 - accuracy: 0.8568 - val_loss: 0.4568 - val_accuracy: 0.8500\n",
      "Epoch 84/100\n",
      "125/125 [==============================] - 1s 4ms/step - loss: 0.4326 - accuracy: 0.8526 - val_loss: 0.4533 - val_accuracy: 0.8560\n",
      "Epoch 85/100\n",
      "125/125 [==============================] - 1s 5ms/step - loss: 0.4239 - accuracy: 0.8547 - val_loss: 0.4471 - val_accuracy: 0.8540\n",
      "Epoch 86/100\n",
      "125/125 [==============================] - 1s 5ms/step - loss: 0.4095 - accuracy: 0.8646 - val_loss: 0.4512 - val_accuracy: 0.8530\n",
      "Epoch 87/100\n",
      "125/125 [==============================] - 1s 5ms/step - loss: 0.4010 - accuracy: 0.8652 - val_loss: 0.4471 - val_accuracy: 0.8580\n",
      "Epoch 88/100\n",
      "125/125 [==============================] - 1s 6ms/step - loss: 0.4133 - accuracy: 0.8649 - val_loss: 0.4416 - val_accuracy: 0.8560\n",
      "Epoch 89/100\n",
      "125/125 [==============================] - 1s 4ms/step - loss: 0.4082 - accuracy: 0.8622 - val_loss: 0.4444 - val_accuracy: 0.8540\n",
      "Epoch 90/100\n",
      "125/125 [==============================] - 1s 4ms/step - loss: 0.4056 - accuracy: 0.8617 - val_loss: 0.4405 - val_accuracy: 0.8610\n",
      "Epoch 91/100\n",
      "125/125 [==============================] - 1s 4ms/step - loss: 0.3823 - accuracy: 0.8715 - val_loss: 0.4439 - val_accuracy: 0.8550\n",
      "Epoch 92/100\n",
      "125/125 [==============================] - 1s 5ms/step - loss: 0.3985 - accuracy: 0.8659 - val_loss: 0.4329 - val_accuracy: 0.8640\n",
      "Epoch 93/100\n",
      "125/125 [==============================] - 1s 5ms/step - loss: 0.3977 - accuracy: 0.8628 - val_loss: 0.4407 - val_accuracy: 0.8550\n",
      "Epoch 94/100\n",
      "125/125 [==============================] - 1s 4ms/step - loss: 0.4026 - accuracy: 0.8670 - val_loss: 0.4369 - val_accuracy: 0.8620\n",
      "Epoch 95/100\n",
      "125/125 [==============================] - 1s 5ms/step - loss: 0.3916 - accuracy: 0.8719 - val_loss: 0.4345 - val_accuracy: 0.8550\n",
      "Epoch 96/100\n",
      "125/125 [==============================] - 1s 4ms/step - loss: 0.3870 - accuracy: 0.8698 - val_loss: 0.4287 - val_accuracy: 0.8620\n",
      "Epoch 97/100\n",
      "125/125 [==============================] - 1s 5ms/step - loss: 0.3689 - accuracy: 0.8768 - val_loss: 0.4326 - val_accuracy: 0.8570\n",
      "Epoch 98/100\n",
      "125/125 [==============================] - 1s 4ms/step - loss: 0.3605 - accuracy: 0.8800 - val_loss: 0.4352 - val_accuracy: 0.8540\n",
      "Epoch 99/100\n",
      "125/125 [==============================] - 1s 5ms/step - loss: 0.3633 - accuracy: 0.8834 - val_loss: 0.4276 - val_accuracy: 0.8620\n",
      "Epoch 100/100\n",
      "125/125 [==============================] - 1s 5ms/step - loss: 0.3706 - accuracy: 0.8781 - val_loss: 0.4321 - val_accuracy: 0.8600\n"
     ]
    }
   ],
   "source": [
    "model.compile(optimizer = keras.optimizers.Adam(learning_rate = 0.0001),\n",
    "              loss=tf.keras.losses.SparseCategoricalCrossentropy(from_logits=True), metrics=['accuracy'])\n",
    "history = model.fit(x = x_train, y = y_train, validation_data= (x_val,y_val), epochs=100, batch_size = 64)"
   ]
  },
  {
   "cell_type": "markdown",
   "metadata": {},
   "source": [
    "# Accuracy & Loss"
   ]
  },
  {
   "cell_type": "code",
   "execution_count": 27,
   "metadata": {},
   "outputs": [
    {
     "data": {
      "image/png": "[encoded data removed]",
      "text/plain": [
       "<Figure size 432x288 with 1 Axes>"
      ]
     },
     "metadata": {
      "needs_background": "light"
     },
     "output_type": "display_data"
    },
    {
     "data": {
      "image/png": "[encoded data removed]",
      "text/plain": [
       "<Figure size 432x288 with 1 Axes>"
      ]
     },
     "metadata": {
      "needs_background": "light"
     },
     "output_type": "display_data"
    }
   ],
   "source": [
    "plt.plot(history.history['accuracy'])\n",
    "plt.plot(history.history['val_accuracy'])\n",
    "plt.title('model accuracy')\n",
    "plt.ylabel('accuracy')\n",
    "plt.xlabel('epoch')\n",
    "plt.legend(['train', 'val'], loc='upper left')\n",
    "plt.show()\n",
    "\n",
    "\n",
    "plt.plot(history.history['loss'])\n",
    "plt.plot(history.history['val_loss'])\n",
    "plt.title('model loss')\n",
    "plt.ylabel('loss')\n",
    "plt.xlabel('epoch')\n",
    "plt.legend(['train', 'val'], loc='upper left')\n",
    "plt.show()"
   ]
  },
  {
   "cell_type": "markdown",
   "metadata": {},
   "source": [
    "# Test on YouTube data"
   ]
  },
  {
   "cell_type": "code",
   "execution_count": 28,
   "metadata": {
    "scrolled": false
   },
   "outputs": [
    {
     "data": {
      "text/html": [
       "<div>\n",
       "<style scoped>\n",
       "    .dataframe tbody tr th:only-of-type {\n",
       "        vertical-align: middle;\n",
       "    }\n",
       "\n",
       "    .dataframe tbody tr th {\n",
       "        vertical-align: top;\n",
       "    }\n",
       "\n",
       "    .dataframe thead th {\n",
       "        text-align: right;\n",
       "    }\n",
       "</style>\n",
       "<table border=\"1\" class=\"dataframe\">\n",
       "  <thead>\n",
       "    <tr style=\"text-align: right;\">\n",
       "      <th></th>\n",
       "      <th>MFCC1_Mean</th>\n",
       "      <th>MFCC2_Mean</th>\n",
       "      <th>MFCC3_Mean</th>\n",
       "      <th>MFCC4_Mean</th>\n",
       "      <th>MFCC5_Mean</th>\n",
       "      <th>MFCC6_Mean</th>\n",
       "      <th>MFCC7_Mean</th>\n",
       "      <th>MFCC8_Mean</th>\n",
       "      <th>MFCC9_Mean</th>\n",
       "      <th>MFCC10_Mean</th>\n",
       "      <th>...</th>\n",
       "      <th>MFCC12_Var</th>\n",
       "      <th>MFCC13_Var</th>\n",
       "      <th>MFCC14_Var</th>\n",
       "      <th>MFCC15_Var</th>\n",
       "      <th>MFCC16_Var</th>\n",
       "      <th>MFCC17_Var</th>\n",
       "      <th>MFCC18_Var</th>\n",
       "      <th>MFCC19_Var</th>\n",
       "      <th>MFCC20_Var</th>\n",
       "      <th>Label</th>\n",
       "    </tr>\n",
       "  </thead>\n",
       "  <tbody>\n",
       "    <tr>\n",
       "      <th>0</th>\n",
       "      <td>-249.010376</td>\n",
       "      <td>149.310394</td>\n",
       "      <td>-38.809299</td>\n",
       "      <td>42.263432</td>\n",
       "      <td>-14.468389</td>\n",
       "      <td>10.295317</td>\n",
       "      <td>-13.667592</td>\n",
       "      <td>4.414966</td>\n",
       "      <td>-4.662990</td>\n",
       "      <td>0.519707</td>\n",
       "      <td>...</td>\n",
       "      <td>122.881081</td>\n",
       "      <td>72.274254</td>\n",
       "      <td>66.570541</td>\n",
       "      <td>259.968506</td>\n",
       "      <td>53.388855</td>\n",
       "      <td>69.137527</td>\n",
       "      <td>52.009602</td>\n",
       "      <td>167.365768</td>\n",
       "      <td>55.598461</td>\n",
       "      <td>hiphop</td>\n",
       "    </tr>\n",
       "    <tr>\n",
       "      <th>1</th>\n",
       "      <td>-279.474091</td>\n",
       "      <td>167.203583</td>\n",
       "      <td>-20.340523</td>\n",
       "      <td>25.866331</td>\n",
       "      <td>-15.994143</td>\n",
       "      <td>0.329006</td>\n",
       "      <td>-22.783136</td>\n",
       "      <td>-1.330112</td>\n",
       "      <td>-11.841547</td>\n",
       "      <td>2.925979</td>\n",
       "      <td>...</td>\n",
       "      <td>186.408676</td>\n",
       "      <td>110.577431</td>\n",
       "      <td>178.660934</td>\n",
       "      <td>108.807304</td>\n",
       "      <td>61.083157</td>\n",
       "      <td>99.472855</td>\n",
       "      <td>71.585411</td>\n",
       "      <td>124.691971</td>\n",
       "      <td>158.015259</td>\n",
       "      <td>hiphop</td>\n",
       "    </tr>\n",
       "    <tr>\n",
       "      <th>2</th>\n",
       "      <td>-296.589569</td>\n",
       "      <td>145.014938</td>\n",
       "      <td>-8.389028</td>\n",
       "      <td>32.571354</td>\n",
       "      <td>-3.660239</td>\n",
       "      <td>20.281359</td>\n",
       "      <td>-22.275860</td>\n",
       "      <td>-11.310889</td>\n",
       "      <td>-22.031324</td>\n",
       "      <td>-7.625155</td>\n",
       "      <td>...</td>\n",
       "      <td>294.384308</td>\n",
       "      <td>259.512238</td>\n",
       "      <td>209.804428</td>\n",
       "      <td>81.502647</td>\n",
       "      <td>135.450653</td>\n",
       "      <td>67.957977</td>\n",
       "      <td>68.078758</td>\n",
       "      <td>237.000793</td>\n",
       "      <td>172.157974</td>\n",
       "      <td>hiphop</td>\n",
       "    </tr>\n",
       "    <tr>\n",
       "      <th>3</th>\n",
       "      <td>-240.589905</td>\n",
       "      <td>161.670792</td>\n",
       "      <td>-22.104473</td>\n",
       "      <td>38.933300</td>\n",
       "      <td>-15.202853</td>\n",
       "      <td>16.041809</td>\n",
       "      <td>-19.434389</td>\n",
       "      <td>0.025945</td>\n",
       "      <td>-13.720518</td>\n",
       "      <td>-4.024367</td>\n",
       "      <td>...</td>\n",
       "      <td>76.631096</td>\n",
       "      <td>91.791725</td>\n",
       "      <td>118.611588</td>\n",
       "      <td>73.517639</td>\n",
       "      <td>123.737152</td>\n",
       "      <td>55.229832</td>\n",
       "      <td>44.574848</td>\n",
       "      <td>99.319275</td>\n",
       "      <td>107.875664</td>\n",
       "      <td>hiphop</td>\n",
       "    </tr>\n",
       "    <tr>\n",
       "      <th>4</th>\n",
       "      <td>-141.305054</td>\n",
       "      <td>122.189499</td>\n",
       "      <td>-54.743061</td>\n",
       "      <td>65.195763</td>\n",
       "      <td>-40.119255</td>\n",
       "      <td>14.402914</td>\n",
       "      <td>-40.423481</td>\n",
       "      <td>3.981862</td>\n",
       "      <td>-8.399135</td>\n",
       "      <td>0.515828</td>\n",
       "      <td>...</td>\n",
       "      <td>143.140717</td>\n",
       "      <td>90.704193</td>\n",
       "      <td>92.015656</td>\n",
       "      <td>54.689579</td>\n",
       "      <td>74.343674</td>\n",
       "      <td>59.269360</td>\n",
       "      <td>64.264503</td>\n",
       "      <td>74.729507</td>\n",
       "      <td>127.474457</td>\n",
       "      <td>hiphop</td>\n",
       "    </tr>\n",
       "  </tbody>\n",
       "</table>\n",
       "<p>5 rows × 41 columns</p>\n",
       "</div>"
      ],
      "text/plain": [
       "   MFCC1_Mean  MFCC2_Mean  MFCC3_Mean  MFCC4_Mean  MFCC5_Mean  MFCC6_Mean  \\\n",
       "0 -249.010376  149.310394  -38.809299   42.263432  -14.468389   10.295317   \n",
       "1 -279.474091  167.203583  -20.340523   25.866331  -15.994143    0.329006   \n",
       "2 -296.589569  145.014938   -8.389028   32.571354   -3.660239   20.281359   \n",
       "3 -240.589905  161.670792  -22.104473   38.933300  -15.202853   16.041809   \n",
       "4 -141.305054  122.189499  -54.743061   65.195763  -40.119255   14.402914   \n",
       "\n",
       "   MFCC7_Mean  MFCC8_Mean  MFCC9_Mean  MFCC10_Mean  ...  MFCC12_Var  \\\n",
       "0  -13.667592    4.414966   -4.662990     0.519707  ...  122.881081   \n",
       "1  -22.783136   -1.330112  -11.841547     2.925979  ...  186.408676   \n",
       "2  -22.275860  -11.310889  -22.031324    -7.625155  ...  294.384308   \n",
       "3  -19.434389    0.025945  -13.720518    -4.024367  ...   76.631096   \n",
       "4  -40.423481    3.981862   -8.399135     0.515828  ...  143.140717   \n",
       "\n",
       "   MFCC13_Var  MFCC14_Var  MFCC15_Var  MFCC16_Var  MFCC17_Var  MFCC18_Var  \\\n",
       "0   72.274254   66.570541  259.968506   53.388855   69.137527   52.009602   \n",
       "1  110.577431  178.660934  108.807304   61.083157   99.472855   71.585411   \n",
       "2  259.512238  209.804428   81.502647  135.450653   67.957977   68.078758   \n",
       "3   91.791725  118.611588   73.517639  123.737152   55.229832   44.574848   \n",
       "4   90.704193   92.015656   54.689579   74.343674   59.269360   64.264503   \n",
       "\n",
       "   MFCC19_Var  MFCC20_Var   Label  \n",
       "0  167.365768   55.598461  hiphop  \n",
       "1  124.691971  158.015259  hiphop  \n",
       "2  237.000793  172.157974  hiphop  \n",
       "3   99.319275  107.875664  hiphop  \n",
       "4   74.729507  127.474457  hiphop  \n",
       "\n",
       "[5 rows x 41 columns]"
      ]
     },
     "execution_count": 28,
     "metadata": {},
     "output_type": "execute_result"
    }
   ],
   "source": [
    "data_test = pd.read_csv('data_test.csv')\n",
    "data_test.head()"
   ]
  },
  {
   "cell_type": "code",
   "execution_count": 29,
   "metadata": {},
   "outputs": [],
   "source": [
    "data_test.Label = [classes[l] for l in data_test.Label]"
   ]
  },
  {
   "cell_type": "code",
   "execution_count": 30,
   "metadata": {},
   "outputs": [],
   "source": [
    "x_test = data_test[data_test.columns[:-1]]\n",
    "y_test = data_test['Label']\n",
    "\n",
    "scaler = StandardScaler()\n",
    "x_test = scaler.fit_transform(x_test)"
   ]
  },
  {
   "cell_type": "code",
   "execution_count": 31,
   "metadata": {},
   "outputs": [
    {
     "name": "stdout",
     "output_type": "stream",
     "text": [
      "32/32 [==============================] - 0s 2ms/step - loss: 3.7756 - accuracy: 0.2510\n"
     ]
    },
    {
     "data": {
      "text/plain": [
       "[3.7755801677703857, 0.2509920597076416]"
      ]
     },
     "execution_count": 31,
     "metadata": {},
     "output_type": "execute_result"
    }
   ],
   "source": [
    "model.evaluate(x_test, y_test)"
   ]
  },
  {
   "cell_type": "markdown",
   "metadata": {},
   "source": [
    "# Confusion matrix"
   ]
  },
  {
   "cell_type": "code",
   "execution_count": 32,
   "metadata": {},
   "outputs": [
    {
     "name": "stderr",
     "output_type": "stream",
     "text": [
      "C:\\ProgramData\\Anaconda3\\lib\\site-packages\\tensorflow\\python\\keras\\engine\\sequential.py:450: UserWarning: `model.predict_classes()` is deprecated and will be removed after 2021-01-01. Please use instead:* `np.argmax(model.predict(x), axis=-1)`,   if your model does multi-class classification   (e.g. if it uses a `softmax` last-layer activation).* `(model.predict(x) > 0.5).astype(\"int32\")`,   if your model does binary classification   (e.g. if it uses a `sigmoid` last-layer activation).\n",
      "  warnings.warn('`model.predict_classes()` is deprecated and '\n"
     ]
    },
    {
     "data": {
      "image/png": "[encoded data removed]",
      "text/plain": [
       "<Figure size 720x576 with 2 Axes>"
      ]
     },
     "metadata": {
      "needs_background": "light"
     },
     "output_type": "display_data"
    }
   ],
   "source": [
    "confusion_mtx = tf.math.confusion_matrix(y_test, model.predict_classes(x_test)) \n",
    "plt.figure(figsize=(10, 8))\n",
    "sns.heatmap(confusion_mtx, xticklabels=classes.keys(), yticklabels=classes.keys(), \n",
    "            annot=True, fmt='g')\n",
    "plt.xlabel('Prediction')\n",
    "plt.ylabel('Label')\n",
    "plt.show()"
   ]
  },
  {
   "cell_type": "markdown",
   "metadata": {},
   "source": [
    "# Saving model"
   ]
  },
  {
   "cell_type": "code",
   "execution_count": 33,
   "metadata": {},
   "outputs": [
    {
     "name": "stdout",
     "output_type": "stream",
     "text": [
      "INFO:tensorflow:Assets written to: models/NN\\assets\n"
     ]
    }
   ],
   "source": [
    "model.save('models/NN')"
   ]
  },
  {
   "cell_type": "code",
   "execution_count": 34,
   "metadata": {},
   "outputs": [
    {
     "name": "stdout",
     "output_type": "stream",
     "text": [
      "done\n"
     ]
    }
   ],
   "source": [
    "print('done')"
   ]
  },
  {
   "cell_type": "code",
   "execution_count": null,
   "metadata": {},
   "outputs": [],
   "source": []
  }
 ],
 "metadata": {
  "kernelspec": {
   "display_name": "Python 3",
   "language": "python",
   "name": "python3"
  },
  "language_info": {
   "codemirror_mode": {
    "name": "ipython",
    "version": 3
   },
   "file_extension": ".py",
   "mimetype": "text/x-python",
   "name": "python",
   "nbconvert_exporter": "python",
   "pygments_lexer": "ipython3",
   "version": "3.8.5"
  }
 },
 "nbformat": 4,
 "nbformat_minor": 4
}
