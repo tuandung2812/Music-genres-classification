{
 "cells": [
  {
   "cell_type": "code",
   "execution_count": 1,
   "metadata": {},
   "outputs": [],
   "source": [
    "import pandas as pd\n",
    "import sklearn\n",
    "from sklearn.preprocessing import StandardScaler\n",
    "from sklearn.pipeline import Pipeline\n",
    "from sklearn.model_selection import GridSearchCV\n",
    "from sklearn.model_selection import train_test_split\n",
    "from sklearn.metrics import accuracy_score\n",
    "\n",
    "from sklearn.feature_selection import VarianceThreshold\n",
    "from sklearn.feature_selection import SelectFromModel\n",
    "from sklearn.svm import SVC\n",
    "\n",
    "import lightgbm as lgbm\n",
    "import math\n",
    "import pickle"
   ]
  },
  {
   "cell_type": "markdown",
   "metadata": {},
   "source": [
    "# Loading mixed data (GTZAN dataset + YouTube data)"
   ]
  },
  {
   "cell_type": "code",
   "execution_count": 2,
   "metadata": {
    "scrolled": true
   },
   "outputs": [
    {
     "data": {
      "text/html": [
       "<div>\n",
       "<style scoped>\n",
       "    .dataframe tbody tr th:only-of-type {\n",
       "        vertical-align: middle;\n",
       "    }\n",
       "\n",
       "    .dataframe tbody tr th {\n",
       "        vertical-align: top;\n",
       "    }\n",
       "\n",
       "    .dataframe thead th {\n",
       "        text-align: right;\n",
       "    }\n",
       "</style>\n",
       "<table border=\"1\" class=\"dataframe\">\n",
       "  <thead>\n",
       "    <tr style=\"text-align: right;\">\n",
       "      <th></th>\n",
       "      <th>MFCC1_Mean</th>\n",
       "      <th>MFCC2_Mean</th>\n",
       "      <th>MFCC3_Mean</th>\n",
       "      <th>MFCC4_Mean</th>\n",
       "      <th>MFCC5_Mean</th>\n",
       "      <th>MFCC6_Mean</th>\n",
       "      <th>MFCC7_Mean</th>\n",
       "      <th>MFCC8_Mean</th>\n",
       "      <th>MFCC9_Mean</th>\n",
       "      <th>MFCC10_Mean</th>\n",
       "      <th>...</th>\n",
       "      <th>MFCC12_Var</th>\n",
       "      <th>MFCC13_Var</th>\n",
       "      <th>MFCC14_Var</th>\n",
       "      <th>MFCC15_Var</th>\n",
       "      <th>MFCC16_Var</th>\n",
       "      <th>MFCC17_Var</th>\n",
       "      <th>MFCC18_Var</th>\n",
       "      <th>MFCC19_Var</th>\n",
       "      <th>MFCC20_Var</th>\n",
       "      <th>Label</th>\n",
       "    </tr>\n",
       "  </thead>\n",
       "  <tbody>\n",
       "    <tr>\n",
       "      <th>0</th>\n",
       "      <td>-202.407974</td>\n",
       "      <td>166.767883</td>\n",
       "      <td>-29.063051</td>\n",
       "      <td>35.231968</td>\n",
       "      <td>-7.021881</td>\n",
       "      <td>26.260551</td>\n",
       "      <td>-12.185494</td>\n",
       "      <td>15.810824</td>\n",
       "      <td>-4.190476</td>\n",
       "      <td>-6.121345</td>\n",
       "      <td>...</td>\n",
       "      <td>35.144840</td>\n",
       "      <td>63.236923</td>\n",
       "      <td>47.332485</td>\n",
       "      <td>86.354355</td>\n",
       "      <td>38.870907</td>\n",
       "      <td>94.355904</td>\n",
       "      <td>18.192657</td>\n",
       "      <td>58.465191</td>\n",
       "      <td>43.517445</td>\n",
       "      <td>blues</td>\n",
       "    </tr>\n",
       "    <tr>\n",
       "      <th>1</th>\n",
       "      <td>-194.815598</td>\n",
       "      <td>170.630585</td>\n",
       "      <td>-37.334534</td>\n",
       "      <td>36.500557</td>\n",
       "      <td>-6.618162</td>\n",
       "      <td>18.045141</td>\n",
       "      <td>-6.102125</td>\n",
       "      <td>15.924576</td>\n",
       "      <td>-3.994879</td>\n",
       "      <td>-5.965096</td>\n",
       "      <td>...</td>\n",
       "      <td>41.252335</td>\n",
       "      <td>39.127922</td>\n",
       "      <td>50.740669</td>\n",
       "      <td>57.180687</td>\n",
       "      <td>62.119591</td>\n",
       "      <td>62.943115</td>\n",
       "      <td>69.166725</td>\n",
       "      <td>123.617004</td>\n",
       "      <td>72.833069</td>\n",
       "      <td>blues</td>\n",
       "    </tr>\n",
       "    <tr>\n",
       "      <th>2</th>\n",
       "      <td>-207.168427</td>\n",
       "      <td>177.416641</td>\n",
       "      <td>-19.825985</td>\n",
       "      <td>34.417259</td>\n",
       "      <td>-13.723843</td>\n",
       "      <td>22.251123</td>\n",
       "      <td>-8.538532</td>\n",
       "      <td>12.130745</td>\n",
       "      <td>-0.924732</td>\n",
       "      <td>-4.370468</td>\n",
       "      <td>...</td>\n",
       "      <td>47.653198</td>\n",
       "      <td>37.141811</td>\n",
       "      <td>32.786049</td>\n",
       "      <td>61.379265</td>\n",
       "      <td>31.179749</td>\n",
       "      <td>35.971004</td>\n",
       "      <td>32.982254</td>\n",
       "      <td>32.468094</td>\n",
       "      <td>22.021683</td>\n",
       "      <td>blues</td>\n",
       "    </tr>\n",
       "    <tr>\n",
       "      <th>3</th>\n",
       "      <td>-173.847214</td>\n",
       "      <td>138.374161</td>\n",
       "      <td>-31.265633</td>\n",
       "      <td>50.847828</td>\n",
       "      <td>-24.704271</td>\n",
       "      <td>17.972462</td>\n",
       "      <td>-1.393162</td>\n",
       "      <td>-4.374794</td>\n",
       "      <td>-7.386628</td>\n",
       "      <td>15.041191</td>\n",
       "      <td>...</td>\n",
       "      <td>74.775719</td>\n",
       "      <td>46.816250</td>\n",
       "      <td>87.237602</td>\n",
       "      <td>64.124466</td>\n",
       "      <td>99.918686</td>\n",
       "      <td>77.069939</td>\n",
       "      <td>49.496777</td>\n",
       "      <td>146.983185</td>\n",
       "      <td>36.357033</td>\n",
       "      <td>blues</td>\n",
       "    </tr>\n",
       "    <tr>\n",
       "      <th>4</th>\n",
       "      <td>-178.541718</td>\n",
       "      <td>151.246490</td>\n",
       "      <td>-37.812202</td>\n",
       "      <td>47.722809</td>\n",
       "      <td>-7.711584</td>\n",
       "      <td>18.562996</td>\n",
       "      <td>-5.909832</td>\n",
       "      <td>7.504122</td>\n",
       "      <td>-7.322074</td>\n",
       "      <td>11.085575</td>\n",
       "      <td>...</td>\n",
       "      <td>34.002884</td>\n",
       "      <td>35.557098</td>\n",
       "      <td>87.806839</td>\n",
       "      <td>78.256432</td>\n",
       "      <td>99.967041</td>\n",
       "      <td>64.290489</td>\n",
       "      <td>68.170197</td>\n",
       "      <td>41.308800</td>\n",
       "      <td>55.424549</td>\n",
       "      <td>blues</td>\n",
       "    </tr>\n",
       "  </tbody>\n",
       "</table>\n",
       "<p>5 rows × 41 columns</p>\n",
       "</div>"
      ],
      "text/plain": [
       "   MFCC1_Mean  MFCC2_Mean  MFCC3_Mean  MFCC4_Mean  MFCC5_Mean  MFCC6_Mean  \\\n",
       "0 -202.407974  166.767883  -29.063051   35.231968   -7.021881   26.260551   \n",
       "1 -194.815598  170.630585  -37.334534   36.500557   -6.618162   18.045141   \n",
       "2 -207.168427  177.416641  -19.825985   34.417259  -13.723843   22.251123   \n",
       "3 -173.847214  138.374161  -31.265633   50.847828  -24.704271   17.972462   \n",
       "4 -178.541718  151.246490  -37.812202   47.722809   -7.711584   18.562996   \n",
       "\n",
       "   MFCC7_Mean  MFCC8_Mean  MFCC9_Mean  MFCC10_Mean  ...  MFCC12_Var  \\\n",
       "0  -12.185494   15.810824   -4.190476    -6.121345  ...   35.144840   \n",
       "1   -6.102125   15.924576   -3.994879    -5.965096  ...   41.252335   \n",
       "2   -8.538532   12.130745   -0.924732    -4.370468  ...   47.653198   \n",
       "3   -1.393162   -4.374794   -7.386628    15.041191  ...   74.775719   \n",
       "4   -5.909832    7.504122   -7.322074    11.085575  ...   34.002884   \n",
       "\n",
       "   MFCC13_Var  MFCC14_Var  MFCC15_Var  MFCC16_Var  MFCC17_Var  MFCC18_Var  \\\n",
       "0   63.236923   47.332485   86.354355   38.870907   94.355904   18.192657   \n",
       "1   39.127922   50.740669   57.180687   62.119591   62.943115   69.166725   \n",
       "2   37.141811   32.786049   61.379265   31.179749   35.971004   32.982254   \n",
       "3   46.816250   87.237602   64.124466   99.918686   77.069939   49.496777   \n",
       "4   35.557098   87.806839   78.256432   99.967041   64.290489   68.170197   \n",
       "\n",
       "   MFCC19_Var  MFCC20_Var  Label  \n",
       "0   58.465191   43.517445  blues  \n",
       "1  123.617004   72.833069  blues  \n",
       "2   32.468094   22.021683  blues  \n",
       "3  146.983185   36.357033  blues  \n",
       "4   41.308800   55.424549  blues  \n",
       "\n",
       "[5 rows x 41 columns]"
      ]
     },
     "execution_count": 2,
     "metadata": {},
     "output_type": "execute_result"
    }
   ],
   "source": [
    "data = pd.read_csv('data_mix.csv')\n",
    "data.head()"
   ]
  },
  {
   "cell_type": "code",
   "execution_count": 3,
   "metadata": {},
   "outputs": [],
   "source": [
    "data = data.sample(frac=1, random_state = 101).reset_index(drop=True)"
   ]
  },
  {
   "cell_type": "code",
   "execution_count": 4,
   "metadata": {},
   "outputs": [],
   "source": [
    "classes = {'blues': 0, 'classical': 1, 'country': 2, 'disco': 3, 'hiphop': 4, 'jazz': 5, 'metal': 6, 'pop': 7, 'reggae': 8, 'rock': 9}"
   ]
  },
  {
   "cell_type": "code",
   "execution_count": 5,
   "metadata": {},
   "outputs": [],
   "source": [
    "x_data = data[data.columns[:-1]]\n",
    "y_data = pd.Categorical(data['Label']).codes"
   ]
  },
  {
   "cell_type": "code",
   "execution_count": 6,
   "metadata": {},
   "outputs": [],
   "source": [
    "len_x = x_data.shape[0]\n",
    "x_train  = x_data[:math.floor(len_x * 0.85)]\n",
    "x_val  = x_data[math.floor(len_x * 0.85) :]\n",
    "\n",
    "len_y = y_data.shape[0]\n",
    "y_train  = y_data[:math.floor(len_y * 0.85)]\n",
    "y_val  = y_data[math.floor(len_y * 0.85) :]"
   ]
  },
  {
   "cell_type": "markdown",
   "metadata": {},
   "source": [
    "# GridSearch SVM"
   ]
  },
  {
   "cell_type": "code",
   "execution_count": 7,
   "metadata": {},
   "outputs": [
    {
     "name": "stdout",
     "output_type": "stream",
     "text": [
      "Fitting 9 folds for each of 1 candidates, totalling 9 fits\n"
     ]
    },
    {
     "name": "stderr",
     "output_type": "stream",
     "text": [
      "[Parallel(n_jobs=-1)]: Using backend LokyBackend with 8 concurrent workers.\n",
      "[Parallel(n_jobs=-1)]: Done   4 out of   9 | elapsed:   25.4s remaining:   31.8s\n",
      "[Parallel(n_jobs=-1)]: Done   9 out of   9 | elapsed:   32.7s remaining:    0.0s\n",
      "[Parallel(n_jobs=-1)]: Done   9 out of   9 | elapsed:   32.7s finished\n"
     ]
    },
    {
     "data": {
      "text/plain": [
       "GridSearchCV(cv=9,\n",
       "             estimator=Pipeline(steps=[('scale', StandardScaler()),\n",
       "                                       ('var_tresh',\n",
       "                                        VarianceThreshold(threshold=0.1)),\n",
       "                                       ('cls', SVC())]),\n",
       "             n_jobs=-1, param_grid={'cls__C': [5], 'cls__kernel': ['rbf']},\n",
       "             scoring='accuracy', verbose=2)"
      ]
     },
     "execution_count": 7,
     "metadata": {},
     "output_type": "execute_result"
    }
   ],
   "source": [
    "params = {\n",
    "    \"cls__C\": [5],\n",
    "    \"cls__kernel\": ['rbf'],\n",
    "}\n",
    "\n",
    "pipe_svm = Pipeline([\n",
    "    ('scale', StandardScaler()),\n",
    "    ('var_tresh', VarianceThreshold(threshold=0.1)),\n",
    "    ('cls', SVC())\n",
    "])\n",
    "\n",
    "grid_svm = GridSearchCV(pipe_svm, params, scoring='accuracy', n_jobs=-1, cv=9,verbose=2)\n",
    "grid_svm.fit(x_train, y_train)"
   ]
  },
  {
   "cell_type": "code",
   "execution_count": 8,
   "metadata": {},
   "outputs": [
    {
     "name": "stdout",
     "output_type": "stream",
     "text": [
      "Best score on train set (accuracy) = 0.7716\n",
      "Best score on validation set (accuracy) = 0.7631\n"
     ]
    }
   ],
   "source": [
    "preds_val = grid_svm.predict(x_val)\n",
    "print(\"Best score on train set (accuracy) = {:.4f}\".format(grid_svm.best_score_))\n",
    "print(\"Best score on validation set (accuracy) = {:.4f}\".format(accuracy_score(y_val, preds_val)))"
   ]
  },
  {
   "cell_type": "markdown",
   "metadata": {},
   "source": [
    "# Test on YouTube data"
   ]
  },
  {
   "cell_type": "code",
   "execution_count": 9,
   "metadata": {},
   "outputs": [
    {
     "data": {
      "text/html": [
       "<div>\n",
       "<style scoped>\n",
       "    .dataframe tbody tr th:only-of-type {\n",
       "        vertical-align: middle;\n",
       "    }\n",
       "\n",
       "    .dataframe tbody tr th {\n",
       "        vertical-align: top;\n",
       "    }\n",
       "\n",
       "    .dataframe thead th {\n",
       "        text-align: right;\n",
       "    }\n",
       "</style>\n",
       "<table border=\"1\" class=\"dataframe\">\n",
       "  <thead>\n",
       "    <tr style=\"text-align: right;\">\n",
       "      <th></th>\n",
       "      <th>MFCC1_Mean</th>\n",
       "      <th>MFCC2_Mean</th>\n",
       "      <th>MFCC3_Mean</th>\n",
       "      <th>MFCC4_Mean</th>\n",
       "      <th>MFCC5_Mean</th>\n",
       "      <th>MFCC6_Mean</th>\n",
       "      <th>MFCC7_Mean</th>\n",
       "      <th>MFCC8_Mean</th>\n",
       "      <th>MFCC9_Mean</th>\n",
       "      <th>MFCC10_Mean</th>\n",
       "      <th>...</th>\n",
       "      <th>MFCC12_Var</th>\n",
       "      <th>MFCC13_Var</th>\n",
       "      <th>MFCC14_Var</th>\n",
       "      <th>MFCC15_Var</th>\n",
       "      <th>MFCC16_Var</th>\n",
       "      <th>MFCC17_Var</th>\n",
       "      <th>MFCC18_Var</th>\n",
       "      <th>MFCC19_Var</th>\n",
       "      <th>MFCC20_Var</th>\n",
       "      <th>Label</th>\n",
       "    </tr>\n",
       "  </thead>\n",
       "  <tbody>\n",
       "    <tr>\n",
       "      <th>0</th>\n",
       "      <td>-249.010376</td>\n",
       "      <td>149.310394</td>\n",
       "      <td>-38.809299</td>\n",
       "      <td>42.263432</td>\n",
       "      <td>-14.468389</td>\n",
       "      <td>10.295317</td>\n",
       "      <td>-13.667592</td>\n",
       "      <td>4.414966</td>\n",
       "      <td>-4.662990</td>\n",
       "      <td>0.519707</td>\n",
       "      <td>...</td>\n",
       "      <td>122.881081</td>\n",
       "      <td>72.274254</td>\n",
       "      <td>66.570541</td>\n",
       "      <td>259.968506</td>\n",
       "      <td>53.388855</td>\n",
       "      <td>69.137527</td>\n",
       "      <td>52.009602</td>\n",
       "      <td>167.365768</td>\n",
       "      <td>55.598461</td>\n",
       "      <td>hiphop</td>\n",
       "    </tr>\n",
       "    <tr>\n",
       "      <th>1</th>\n",
       "      <td>-279.474091</td>\n",
       "      <td>167.203583</td>\n",
       "      <td>-20.340523</td>\n",
       "      <td>25.866331</td>\n",
       "      <td>-15.994143</td>\n",
       "      <td>0.329006</td>\n",
       "      <td>-22.783136</td>\n",
       "      <td>-1.330112</td>\n",
       "      <td>-11.841547</td>\n",
       "      <td>2.925979</td>\n",
       "      <td>...</td>\n",
       "      <td>186.408676</td>\n",
       "      <td>110.577431</td>\n",
       "      <td>178.660934</td>\n",
       "      <td>108.807304</td>\n",
       "      <td>61.083157</td>\n",
       "      <td>99.472855</td>\n",
       "      <td>71.585411</td>\n",
       "      <td>124.691971</td>\n",
       "      <td>158.015259</td>\n",
       "      <td>hiphop</td>\n",
       "    </tr>\n",
       "    <tr>\n",
       "      <th>2</th>\n",
       "      <td>-296.589569</td>\n",
       "      <td>145.014938</td>\n",
       "      <td>-8.389028</td>\n",
       "      <td>32.571354</td>\n",
       "      <td>-3.660239</td>\n",
       "      <td>20.281359</td>\n",
       "      <td>-22.275860</td>\n",
       "      <td>-11.310889</td>\n",
       "      <td>-22.031324</td>\n",
       "      <td>-7.625155</td>\n",
       "      <td>...</td>\n",
       "      <td>294.384308</td>\n",
       "      <td>259.512238</td>\n",
       "      <td>209.804428</td>\n",
       "      <td>81.502647</td>\n",
       "      <td>135.450653</td>\n",
       "      <td>67.957977</td>\n",
       "      <td>68.078758</td>\n",
       "      <td>237.000793</td>\n",
       "      <td>172.157974</td>\n",
       "      <td>hiphop</td>\n",
       "    </tr>\n",
       "    <tr>\n",
       "      <th>3</th>\n",
       "      <td>-240.589905</td>\n",
       "      <td>161.670792</td>\n",
       "      <td>-22.104473</td>\n",
       "      <td>38.933300</td>\n",
       "      <td>-15.202853</td>\n",
       "      <td>16.041809</td>\n",
       "      <td>-19.434389</td>\n",
       "      <td>0.025945</td>\n",
       "      <td>-13.720518</td>\n",
       "      <td>-4.024367</td>\n",
       "      <td>...</td>\n",
       "      <td>76.631096</td>\n",
       "      <td>91.791725</td>\n",
       "      <td>118.611588</td>\n",
       "      <td>73.517639</td>\n",
       "      <td>123.737152</td>\n",
       "      <td>55.229832</td>\n",
       "      <td>44.574848</td>\n",
       "      <td>99.319275</td>\n",
       "      <td>107.875664</td>\n",
       "      <td>hiphop</td>\n",
       "    </tr>\n",
       "    <tr>\n",
       "      <th>4</th>\n",
       "      <td>-141.305054</td>\n",
       "      <td>122.189499</td>\n",
       "      <td>-54.743061</td>\n",
       "      <td>65.195763</td>\n",
       "      <td>-40.119255</td>\n",
       "      <td>14.402914</td>\n",
       "      <td>-40.423481</td>\n",
       "      <td>3.981862</td>\n",
       "      <td>-8.399135</td>\n",
       "      <td>0.515828</td>\n",
       "      <td>...</td>\n",
       "      <td>143.140717</td>\n",
       "      <td>90.704193</td>\n",
       "      <td>92.015656</td>\n",
       "      <td>54.689579</td>\n",
       "      <td>74.343674</td>\n",
       "      <td>59.269360</td>\n",
       "      <td>64.264503</td>\n",
       "      <td>74.729507</td>\n",
       "      <td>127.474457</td>\n",
       "      <td>hiphop</td>\n",
       "    </tr>\n",
       "  </tbody>\n",
       "</table>\n",
       "<p>5 rows × 41 columns</p>\n",
       "</div>"
      ],
      "text/plain": [
       "   MFCC1_Mean  MFCC2_Mean  MFCC3_Mean  MFCC4_Mean  MFCC5_Mean  MFCC6_Mean  \\\n",
       "0 -249.010376  149.310394  -38.809299   42.263432  -14.468389   10.295317   \n",
       "1 -279.474091  167.203583  -20.340523   25.866331  -15.994143    0.329006   \n",
       "2 -296.589569  145.014938   -8.389028   32.571354   -3.660239   20.281359   \n",
       "3 -240.589905  161.670792  -22.104473   38.933300  -15.202853   16.041809   \n",
       "4 -141.305054  122.189499  -54.743061   65.195763  -40.119255   14.402914   \n",
       "\n",
       "   MFCC7_Mean  MFCC8_Mean  MFCC9_Mean  MFCC10_Mean  ...  MFCC12_Var  \\\n",
       "0  -13.667592    4.414966   -4.662990     0.519707  ...  122.881081   \n",
       "1  -22.783136   -1.330112  -11.841547     2.925979  ...  186.408676   \n",
       "2  -22.275860  -11.310889  -22.031324    -7.625155  ...  294.384308   \n",
       "3  -19.434389    0.025945  -13.720518    -4.024367  ...   76.631096   \n",
       "4  -40.423481    3.981862   -8.399135     0.515828  ...  143.140717   \n",
       "\n",
       "   MFCC13_Var  MFCC14_Var  MFCC15_Var  MFCC16_Var  MFCC17_Var  MFCC18_Var  \\\n",
       "0   72.274254   66.570541  259.968506   53.388855   69.137527   52.009602   \n",
       "1  110.577431  178.660934  108.807304   61.083157   99.472855   71.585411   \n",
       "2  259.512238  209.804428   81.502647  135.450653   67.957977   68.078758   \n",
       "3   91.791725  118.611588   73.517639  123.737152   55.229832   44.574848   \n",
       "4   90.704193   92.015656   54.689579   74.343674   59.269360   64.264503   \n",
       "\n",
       "   MFCC19_Var  MFCC20_Var   Label  \n",
       "0  167.365768   55.598461  hiphop  \n",
       "1  124.691971  158.015259  hiphop  \n",
       "2  237.000793  172.157974  hiphop  \n",
       "3   99.319275  107.875664  hiphop  \n",
       "4   74.729507  127.474457  hiphop  \n",
       "\n",
       "[5 rows x 41 columns]"
      ]
     },
     "execution_count": 9,
     "metadata": {},
     "output_type": "execute_result"
    }
   ],
   "source": [
    "data_test = pd.read_csv('data_test.csv')\n",
    "data_test.head()"
   ]
  },
  {
   "cell_type": "code",
   "execution_count": 10,
   "metadata": {},
   "outputs": [],
   "source": [
    "data_test.Label = [classes[l] for l in data_test.Label]"
   ]
  },
  {
   "cell_type": "code",
   "execution_count": 11,
   "metadata": {},
   "outputs": [],
   "source": [
    "x_test = data_test[data_test.columns[:-1]]\n",
    "y_test = data_test['Label']"
   ]
  },
  {
   "cell_type": "code",
   "execution_count": 12,
   "metadata": {},
   "outputs": [
    {
     "name": "stdout",
     "output_type": "stream",
     "text": [
      "Best score on test set (accuracy) = 0.4048\n"
     ]
    }
   ],
   "source": [
    "preds_test = grid_svm.predict(x_test)\n",
    "print(\"Best score on test set (accuracy) = {:.4f}\".format(accuracy_score(y_test, preds_test)))"
   ]
  },
  {
   "cell_type": "markdown",
   "metadata": {},
   "source": [
    "# Saving model"
   ]
  },
  {
   "cell_type": "code",
   "execution_count": 13,
   "metadata": {},
   "outputs": [],
   "source": [
    "filename = 'SVM_Mixed.sav'\n",
    "pickle.dump(grid_svm, open(filename, 'wb'))"
   ]
  },
  {
   "cell_type": "code",
   "execution_count": 14,
   "metadata": {},
   "outputs": [
    {
     "name": "stdout",
     "output_type": "stream",
     "text": [
      "done\n"
     ]
    }
   ],
   "source": [
    "print('done')"
   ]
  },
  {
   "cell_type": "code",
   "execution_count": null,
   "metadata": {},
   "outputs": [],
   "source": []
  }
 ],
 "metadata": {
  "kernelspec": {
   "display_name": "Python 3",
   "language": "python",
   "name": "python3"
  },
  "language_info": {
   "codemirror_mode": {
    "name": "ipython",
    "version": 3
   },
   "file_extension": ".py",
   "mimetype": "text/x-python",
   "name": "python",
   "nbconvert_exporter": "python",
   "pygments_lexer": "ipython3",
   "version": "3.8.5"
  }
 },
 "nbformat": 4,
 "nbformat_minor": 4
}
